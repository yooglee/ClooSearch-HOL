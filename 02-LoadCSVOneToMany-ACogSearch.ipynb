{
 "cells": [
  {
   "cell_type": "markdown",
   "id": "4077b4ee-73ea-4155-afbd-1de66dd6b650",
   "metadata": {},
   "source": [
    "# Azure Cognitive Search에  CSV 파일 로드 (one-to-many)\n",
    "\n",
    "이번 단계에서는 각 행이 개별적인 레코드/문서인 CSV 파일을 인덱싱하는 단계를 생성하고 실행하여 각 행을 Azure Cognitive Search에서 검색 가능하게 합니다. \n",
    "[참고문헌](https://learn.microsoft.com/en-us/azure/search/search-howto-index-one-to-many-blobs)에서 확인하실 수 있습니다. \n",
    "\n",
    "기본적으로 인덱서는 Blob 또는 파일의 내용을 단일 검색 문서로 처리합니다. 만약 검색에 좀 더 세분화된 표현을 원할 경우, ParsingMode 값을 설정하여 하나의 블롭 또는 파일에서 여러 검색 문서를 작성할 수도 있습니다."
   ]
  },
  {
   "cell_type": "code",
   "execution_count": 17,
   "id": "c088c844-1e71-4279-a8fe-a77a007c15c4",
   "metadata": {},
   "outputs": [],
   "source": [
    "import os\n",
    "import json\n",
    "import requests\n",
    "from dotenv import load_dotenv\n",
    "load_dotenv(\"credentials.env\")\n",
    "\n",
    "# credentials.env 파일안에 연결된 Blob 스토리지 컨테이너 이름\n",
    "BLOB_CONTAINER_NAME = \"cord19\""
   ]
  },
  {
   "cell_type": "code",
   "execution_count": 18,
   "id": "c4908539-1d17-46a3-b9e0-dcc46a210c4f",
   "metadata": {},
   "outputs": [],
   "source": [
    "# 데이터 소스, 스킬셋, 인덱스 및 인덱서 이름 정의합니다.\n",
    "datasource_name = \"cogsrch-datasource-csv\"\n",
    "skillset_name = \"cogsrch-skillset-csv\"\n",
    "index_name = \"cogsrch-index-csv\"\n",
    "indexer_name = \"cogsrch-indexer-csv\""
   ]
  },
  {
   "cell_type": "code",
   "execution_count": 19,
   "id": "f2434379-070e-4110-8f5a-7d5bda9a0b7c",
   "metadata": {},
   "outputs": [],
   "source": [
    "# Payloads header를 설정합니다. \n",
    "headers = {'Content-Type': 'application/json','api-key': os.environ['AZURE_SEARCH_KEY']}\n",
    "params = {'api-version': os.environ['AZURE_SEARCH_API_VERSION']}"
   ]
  },
  {
   "cell_type": "markdown",
   "id": "ecad0e75-e3c8-4147-b8c6-b938435bc8f5",
   "metadata": {},
   "source": [
    "## Data Source 생성"
   ]
  },
  {
   "cell_type": "code",
   "execution_count": 20,
   "id": "a9fa6c09-a489-4b6d-8c93-5fc26bae63a0",
   "metadata": {},
   "outputs": [
    {
     "name": "stdout",
     "output_type": "stream",
     "text": [
      "201\n",
      "True\n"
     ]
    }
   ],
   "source": [
    "# data source 생성\n",
    "\n",
    "datasource_payload = {\n",
    "    \"name\": datasource_name,\n",
    "    \"description\": \"Demo files to demonstrate cognitive search capabilities of one-to-many.\",\n",
    "    \"type\": \"azureblob\",\n",
    "    \"credentials\": {\n",
    "        \"connectionString\": os.environ['BLOB_CONNECTION_STRING']\n",
    "    },\n",
    "    \"container\": {\n",
    "        \"name\": BLOB_CONTAINER_NAME\n",
    "    }\n",
    "}\n",
    "r = requests.put(os.environ['AZURE_SEARCH_ENDPOINT'] + \"/datasources/\" + datasource_name,\n",
    "                 data=json.dumps(datasource_payload), headers=headers, params=params)\n",
    "print(r.status_code)\n",
    "print(r.ok)"
   ]
  },
  {
   "cell_type": "markdown",
   "id": "86b7ff86-19fc-48d3-88d1-b098e8d01302",
   "metadata": {},
   "source": [
    "## 인덱스를 만들기 전에 데이터의 열 유형을 이해할 수 있도록 CSV 파일을 검사"
   ]
  },
  {
   "cell_type": "code",
   "execution_count": 21,
   "id": "2fbbbd0d-3015-4601-9ef1-7008ad168167",
   "metadata": {},
   "outputs": [],
   "source": [
    "# csv 파일을 디스크에 다운로드하고 panda 라이브러리를 사용하여 검사합니다. \n",
    "import pandas as pd\n",
    "remote_file_path = \"https://holstorage.blob.core.windows.net/cord19/Seoul_Commercial_Districts_v2.csv\"\n"
   ]
  },
  {
   "cell_type": "code",
   "execution_count": 22,
   "id": "45b7ae6f",
   "metadata": {},
   "outputs": [
    {
     "name": "stdout",
     "output_type": "stream",
     "text": [
      "No. of lines: 859\n"
     ]
    }
   ],
   "source": [
    "metadata = pd.read_csv(remote_file_path + os.environ['BLOB_SAS_TOKEN'])\n",
    "print(\"No. of lines:\",metadata.shape[0])"
   ]
  },
  {
   "cell_type": "code",
   "execution_count": 23,
   "id": "6ba01180",
   "metadata": {},
   "outputs": [
    {
     "name": "stdout",
     "output_type": "stream",
     "text": [
      "<class 'pandas.core.frame.DataFrame'>\n",
      "RangeIndex: 859 entries, 0 to 858\n",
      "Data columns (total 9 columns):\n",
      " #   Column    Non-Null Count  Dtype  \n",
      "---  ------    --------------  -----  \n",
      " 0   uniqueid  859 non-null    object \n",
      " 1   기준분기      859 non-null    object \n",
      " 2   상권구분      859 non-null    object \n",
      " 3   상권지역      859 non-null    object \n",
      " 4   서비스업종     859 non-null    object \n",
      " 5   분기매출      859 non-null    float64\n",
      " 6   분기당매출건수   859 non-null    int64  \n",
      " 7   주중매출금액    859 non-null    float64\n",
      " 8   주말매출금액    859 non-null    int64  \n",
      "dtypes: float64(2), int64(2), object(5)\n",
      "memory usage: 60.5+ KB\n"
     ]
    }
   ],
   "source": [
    "metadata.info()"
   ]
  },
  {
   "cell_type": "code",
   "execution_count": 24,
   "id": "aaac918a-8859-45f5-9519-2cf56bfded88",
   "metadata": {},
   "outputs": [
    {
     "data": {
      "text/html": [
       "<style type=\"text/css\">\n",
       "</style>\n",
       "<table id=\"T_d4412\">\n",
       "  <thead>\n",
       "    <tr>\n",
       "      <th class=\"blank level0\" >&nbsp;</th>\n",
       "      <th id=\"T_d4412_level0_col0\" class=\"col_heading level0 col0\" >기준분기</th>\n",
       "      <th id=\"T_d4412_level0_col1\" class=\"col_heading level0 col1\" >상권구분</th>\n",
       "      <th id=\"T_d4412_level0_col2\" class=\"col_heading level0 col2\" >상권지역</th>\n",
       "      <th id=\"T_d4412_level0_col3\" class=\"col_heading level0 col3\" >서비스업종</th>\n",
       "      <th id=\"T_d4412_level0_col4\" class=\"col_heading level0 col4\" >분기매출</th>\n",
       "      <th id=\"T_d4412_level0_col5\" class=\"col_heading level0 col5\" >분기당매출건수</th>\n",
       "      <th id=\"T_d4412_level0_col6\" class=\"col_heading level0 col6\" >주중매출금액</th>\n",
       "      <th id=\"T_d4412_level0_col7\" class=\"col_heading level0 col7\" >주말매출금액</th>\n",
       "      <th id=\"T_d4412_level0_col8\" class=\"col_heading level0 col8\" >uniqueid</th>\n",
       "    </tr>\n",
       "  </thead>\n",
       "  <tbody>\n",
       "    <tr>\n",
       "      <th id=\"T_d4412_level0_row0\" class=\"row_heading level0 row0\" >0</th>\n",
       "      <td id=\"T_d4412_row0_col0\" class=\"data row0 col0\" >4분기...</td>\n",
       "      <td id=\"T_d4412_row0_col1\" class=\"data row0 col1\" >발달상권...</td>\n",
       "      <td id=\"T_d4412_row0_col2\" class=\"data row0 col2\" >대림3동사거리...</td>\n",
       "      <td id=\"T_d4412_row0_col3\" class=\"data row0 col3\" >가구...</td>\n",
       "      <td id=\"T_d4412_row0_col4\" class=\"data row0 col4\" >205619535.0</td>\n",
       "      <td id=\"T_d4412_row0_col5\" class=\"data row0 col5\" >220</td>\n",
       "      <td id=\"T_d4412_row0_col6\" class=\"data row0 col6\" >205619535.0</td>\n",
       "      <td id=\"T_d4412_row0_col7\" class=\"data row0 col7\" >0</td>\n",
       "      <td id=\"T_d4412_row0_col8\" class=\"data row0 col8\" >YH0...</td>\n",
       "    </tr>\n",
       "    <tr>\n",
       "      <th id=\"T_d4412_level0_row1\" class=\"row_heading level0 row1\" >1</th>\n",
       "      <td id=\"T_d4412_row1_col0\" class=\"data row1 col0\" >4분기...</td>\n",
       "      <td id=\"T_d4412_row1_col1\" class=\"data row1 col1\" >발달상권...</td>\n",
       "      <td id=\"T_d4412_row1_col2\" class=\"data row1 col2\" >송파사거리(송파역)...</td>\n",
       "      <td id=\"T_d4412_row1_col3\" class=\"data row1 col3\" >시계및귀금속...</td>\n",
       "      <td id=\"T_d4412_row1_col4\" class=\"data row1 col4\" >47289011.0</td>\n",
       "      <td id=\"T_d4412_row1_col5\" class=\"data row1 col5\" >156</td>\n",
       "      <td id=\"T_d4412_row1_col6\" class=\"data row1 col6\" >47289011.0</td>\n",
       "      <td id=\"T_d4412_row1_col7\" class=\"data row1 col7\" >0</td>\n",
       "      <td id=\"T_d4412_row1_col8\" class=\"data row1 col8\" >YH1...</td>\n",
       "    </tr>\n",
       "    <tr>\n",
       "      <th id=\"T_d4412_level0_row2\" class=\"row_heading level0 row2\" >2</th>\n",
       "      <td id=\"T_d4412_row2_col0\" class=\"data row2 col0\" >4분기...</td>\n",
       "      <td id=\"T_d4412_row2_col1\" class=\"data row2 col1\" >발달상권...</td>\n",
       "      <td id=\"T_d4412_row2_col2\" class=\"data row2 col2\" >상계백병원...</td>\n",
       "      <td id=\"T_d4412_row2_col3\" class=\"data row2 col3\" >가구...</td>\n",
       "      <td id=\"T_d4412_row2_col4\" class=\"data row2 col4\" >3509705.0</td>\n",
       "      <td id=\"T_d4412_row2_col5\" class=\"data row2 col5\" >11</td>\n",
       "      <td id=\"T_d4412_row2_col6\" class=\"data row2 col6\" >3509705.0</td>\n",
       "      <td id=\"T_d4412_row2_col7\" class=\"data row2 col7\" >0</td>\n",
       "      <td id=\"T_d4412_row2_col8\" class=\"data row2 col8\" >YH2...</td>\n",
       "    </tr>\n",
       "    <tr>\n",
       "      <th id=\"T_d4412_level0_row3\" class=\"row_heading level0 row3\" >3</th>\n",
       "      <td id=\"T_d4412_row3_col0\" class=\"data row3 col0\" >4분기...</td>\n",
       "      <td id=\"T_d4412_row3_col1\" class=\"data row3 col1\" >전통시장...</td>\n",
       "      <td id=\"T_d4412_row3_col2\" class=\"data row3 col2\" >화곡본동시장...</td>\n",
       "      <td id=\"T_d4412_row3_col3\" class=\"data row3 col3\" >가구...</td>\n",
       "      <td id=\"T_d4412_row3_col4\" class=\"data row3 col4\" >6554404.0</td>\n",
       "      <td id=\"T_d4412_row3_col5\" class=\"data row3 col5\" >10</td>\n",
       "      <td id=\"T_d4412_row3_col6\" class=\"data row3 col6\" >6554404.0</td>\n",
       "      <td id=\"T_d4412_row3_col7\" class=\"data row3 col7\" >0</td>\n",
       "      <td id=\"T_d4412_row3_col8\" class=\"data row3 col8\" >YH3...</td>\n",
       "    </tr>\n",
       "    <tr>\n",
       "      <th id=\"T_d4412_level0_row4\" class=\"row_heading level0 row4\" >4</th>\n",
       "      <td id=\"T_d4412_row4_col0\" class=\"data row4 col0\" >4분기...</td>\n",
       "      <td id=\"T_d4412_row4_col1\" class=\"data row4 col1\" >발달상권...</td>\n",
       "      <td id=\"T_d4412_row4_col2\" class=\"data row4 col2\" >강남을지병원...</td>\n",
       "      <td id=\"T_d4412_row4_col3\" class=\"data row4 col3\" >가구...</td>\n",
       "      <td id=\"T_d4412_row4_col4\" class=\"data row4 col4\" >125073744.0</td>\n",
       "      <td id=\"T_d4412_row4_col5\" class=\"data row4 col5\" >108</td>\n",
       "      <td id=\"T_d4412_row4_col6\" class=\"data row4 col6\" >125073744.0</td>\n",
       "      <td id=\"T_d4412_row4_col7\" class=\"data row4 col7\" >0</td>\n",
       "      <td id=\"T_d4412_row4_col8\" class=\"data row4 col8\" >YH4...</td>\n",
       "    </tr>\n",
       "  </tbody>\n",
       "</table>\n"
      ],
      "text/plain": [
       "<pandas.io.formats.style.Styler at 0x22937978760>"
      ]
     },
     "execution_count": 24,
     "metadata": {},
     "output_type": "execute_result"
    }
   ],
   "source": [
    "simple_schema = ['기준분기', '상권구분', '상권지역', '서비스업종', '분기매출', '분기당매출건수',  '주중매출금액',  '주말매출금액', 'uniqueid' ]\n",
    "\n",
    "\n",
    "def make_clickable(address):\n",
    "    '''Make the url clickable'''\n",
    "    return '<a href=\"{0}\">{0}</a>'.format(address)\n",
    "\n",
    "def preview(text):\n",
    "    '''Show only a preview of the text data.'''\n",
    "    return text[:30] + '...'\n",
    "\n",
    "\n",
    "format_ = {'기준분기': preview, '상권구분': preview, '상권지역': preview, '서비스업종': preview, '분기매출': float, '분기당매출건수': int, '주중매출금액': float, '주말매출금액': int, 'uniqueid': preview}\n",
    "\n",
    "metadata[simple_schema].head().style.format(format_)"
   ]
  },
  {
   "cell_type": "markdown",
   "id": "c0b3935d-8546-4756-95cd-7f4fcecb9836",
   "metadata": {},
   "source": [
    "## Skillset 생성 - Text Splitter, Language Detection\n",
    "각 행의 내용이 얼마나 큰지 모르기 때문에 각 컨텐츠 필드의 텍스트를 청크(페이지)로 분할하고 언어를 검출합니다. "
   ]
  },
  {
   "cell_type": "code",
   "execution_count": 25,
   "id": "b46cfa90-28b4-4602-b6ff-743a3407fd72",
   "metadata": {},
   "outputs": [
    {
     "name": "stdout",
     "output_type": "stream",
     "text": [
      "201\n",
      "True\n"
     ]
    }
   ],
   "source": [
    "# 스킬셋 생성\n",
    "skillset_payload = {\n",
    "    \"name\": skillset_name,\n",
    "    \"description\": \"Splits Text and detect language\",\n",
    "    \"skills\":\n",
    "    [\n",
    "        {\n",
    "            \"@odata.type\": \"#Microsoft.Skills.Text.LanguageDetectionSkill\",\n",
    "            \"description\": \"If you have multilingual content, adding a language code is useful for filtering\",\n",
    "            \"context\": \"/document\",\n",
    "            \"inputs\": [\n",
    "                {\n",
    "                  \"name\": \"text\",\n",
    "                  \"source\": \"/document/abstract\"\n",
    "                }\n",
    "            ],\n",
    "            \"outputs\": [\n",
    "                {\n",
    "                  \"name\": \"languageCode\",\n",
    "                  \"targetName\": \"language\"\n",
    "                }\n",
    "            ]\n",
    "        },\n",
    "        {\n",
    "            \"@odata.type\": \"#Microsoft.Skills.Text.SplitSkill\",\n",
    "            \"context\": \"/document\",\n",
    "            \"textSplitMode\": \"pages\",\n",
    "            \"maximumPageLength\": 5000, # 5000 is default\n",
    "            \"defaultLanguageCode\": \"en\",\n",
    "            \"inputs\": [\n",
    "                {\n",
    "                    \"name\": \"text\",\n",
    "                    \"source\": \"/document/abstract\"\n",
    "                },\n",
    "                {\n",
    "                    \"name\": \"languageCode\",\n",
    "                    \"source\": \"/document/language\"\n",
    "                }\n",
    "            ],\n",
    "            \"outputs\": [\n",
    "                {\n",
    "                    \"name\": \"textItems\",\n",
    "                    \"targetName\": \"pages\"\n",
    "                }\n",
    "            ]\n",
    "        }\n",
    "    ],\n",
    "    \"cognitiveServices\": {\n",
    "        \"@odata.type\": \"#Microsoft.Azure.Search.CognitiveServicesByKey\",\n",
    "        \"description\": os.environ['COG_SERVICES_NAME'],\n",
    "        \"key\": os.environ['COG_SERVICES_KEY']\n",
    "    }\n",
    "}\n",
    "\n",
    "r = requests.put(os.environ['AZURE_SEARCH_ENDPOINT'] + \"/skillsets/\" + skillset_name,\n",
    "                 data=json.dumps(skillset_payload), headers=headers, params=params)\n",
    "print(r.status_code)\n",
    "print(r.ok)"
   ]
  },
  {
   "cell_type": "markdown",
   "id": "0a321916-cd14-4d34-837d-1d153edb1221",
   "metadata": {},
   "source": [
    "## Index 생성\n",
    "Azure Cognitive Search에서는 블롭 인덱서와 파일 인덱서 모두 CSV 파일의 각 행을 별도의 검색 문서로 구분하는 구문 분석을 지원합니다. \n",
    "\n",
    "\n",
    "### **중요**:\n",
    "전 단계와 현 단계에서 볼 수 있듯이 스키마는 'id, title, content, chunks, language, name, location'의 7개 필수 필드가 있습니다. 이 필드들은 데이터 소스와 관계없이 작성하는 모든 인덱스에 존재해야 하며 검색 엔진이 관련 문서를 검색할 수 있도록 추가 필드를 추가하는 것도 가능합니다. "
   ]
  },
  {
   "cell_type": "code",
   "execution_count": 26,
   "id": "5284b80c-9ba6-49d6-8109-5bfdbaa6ddc5",
   "metadata": {},
   "outputs": [
    {
     "name": "stdout",
     "output_type": "stream",
     "text": [
      "201\n",
      "True\n"
     ]
    }
   ],
   "source": [
    "index_payload = {\n",
    "    \"name\": index_name,  \n",
    "    \"fields\": [\n",
    "        {\"name\": \"id\", \"type\": \"Edm.String\", \"key\": \"true\", \"searchable\": \"false\", \"retrievable\": \"true\", \"facetable\": \"false\", \"filterable\": \"false\", \"sortable\": \"false\"},\n",
    "        {\"name\": \"title\", \"type\": \"Edm.String\", \"searchable\": \"true\", \"retrievable\": \"true\", \"facetable\": \"false\", \"filterable\": \"true\", \"sortable\": \"false\"},\n",
    "        {\"name\": \"content\", \"type\": \"Edm.String\", \"searchable\": \"true\", \"retrievable\": \"true\", \"facetable\": \"false\", \"filterable\": \"false\", \"sortable\": \"false\"},\n",
    "        {\"name\": \"content2\", \"type\": \"Edm.String\", \"searchable\": \"true\", \"retrievable\": \"true\", \"facetable\": \"false\", \"filterable\": \"false\", \"sortable\": \"false\"},\n",
    "        {\"name\": \"content3\", \"type\": \"Edm.String\", \"searchable\": \"true\", \"retrievable\": \"true\", \"facetable\": \"false\", \"filterable\": \"false\", \"sortable\": \"false\"},\n",
    "        {\"name\": \"content4\", \"type\": \"Edm.String\", \"searchable\": \"true\", \"retrievable\": \"true\", \"facetable\": \"false\", \"filterable\": \"false\", \"sortable\": \"false\"},\n",
    "        {\"name\": \"chunks\",\"type\": \"Collection(Edm.String)\", \"searchable\": \"false\", \"retrievable\": \"true\", \"sortable\": \"false\", \"filterable\": \"false\", \"facetable\": \"false\"},\n",
    "        {\"name\": \"language\", \"type\": \"Edm.String\", \"searchable\": \"false\", \"retrievable\": \"true\", \"sortable\": \"true\", \"filterable\": \"true\", \"facetable\": \"true\"},\n",
    "        {\"name\": \"name\", \"type\": \"Edm.String\", \"searchable\": \"true\", \"retrievable\": \"true\", \"sortable\": \"false\", \"filterable\": \"false\", \"facetable\": \"false\"},\n",
    "        {\"name\": \"location\", \"type\": \"Edm.String\", \"searchable\": \"false\", \"retrievable\": \"true\", \"sortable\": \"false\", \"filterable\": \"false\", \"facetable\": \"false\"},\n",
    "        {\"name\": \"vectorized\", \"type\": \"Edm.Boolean\", \"searchable\": \"false\", \"retrievable\": \"true\", \"sortable\": \"false\", \"filterable\": \"false\", \"facetable\": \"false\"},\n",
    "        {\"name\": \"authors\", \"type\": \"Edm.String\", \"searchable\": \"true\", \"retrievable\": \"true\", \"facetable\": \"false\", \"filterable\": \"false\", \"sortable\": \"false\"},\n",
    "        {\"name\": \"metadata_storage_name\", \"type\": \"Edm.String\", \"searchable\": \"true\", \"retrievable\": \"true\", \"sortable\": \"false\", \"filterable\": \"false\", \"facetable\": \"false\"},\n",
    "        {\"name\": \"metadata_storage_path\", \"type\":\"Edm.String\", \"searchable\": \"false\", \"retrievable\": \"true\", \"filterable\": \"false\", \"sortable\": \"false\"},\n",
    "        {\"name\": \"metadata_storage_last_modified\", \"type\":\"Edm.DateTimeOffset\", \"searchable\": \"false\", \"retrievable\": \"false\", \"filterable\": \"false\", \"sortable\": \"false\"}\n",
    "    ],\n",
    "    \"semantic\": {\n",
    "        \"configurations\": [\n",
    "            {\n",
    "                \"name\": \"my-semantic-config\",\n",
    "                \"prioritizedFields\": {\n",
    "                    \"titleField\": \n",
    "                        {\n",
    "                            \"fieldName\": \"title\"\n",
    "                        },\n",
    "                    \"prioritizedContentFields\": [\n",
    "                        { \n",
    "                            \"fieldName\":\"content\" \n",
    "                        }\n",
    "                    ]\n",
    "                }\n",
    "            }\n",
    "        ]\n",
    "    }\n",
    "}\n",
    "\n",
    "r = requests.put(os.environ['AZURE_SEARCH_ENDPOINT'] + \"/indexes/\" + index_name,\n",
    "                 data=json.dumps(index_payload), headers=headers, params=params)\n",
    "print(r.status_code)\n",
    "print(r.ok)"
   ]
  },
  {
   "cell_type": "markdown",
   "id": "51849738-6f66-452a-b7df-d34afd11f943",
   "metadata": {},
   "source": [
    "## Indexer 생성 및 실행 - (runs the pipeline)\n",
    "CSV 데이터를 사용하여 일대다 인덱서를 만들려면 텍스트 구문 분석 모드를 사용하여 인덱서의 정의를 만들거나 업데이트 해야합니다"
   ]
  },
  {
   "cell_type": "code",
   "execution_count": 27,
   "id": "124ffb1f",
   "metadata": {},
   "outputs": [],
   "source": [
    "# format_ = {'기준분기': preview, '상권구분': preview, '상권지역': preview, '서비스업종': preview, '분기매출': float, '분기당매출건수': int, '주중매출금액': float, '주말매출금액': int, 'uniqueid': preview}"
   ]
  },
  {
   "cell_type": "code",
   "execution_count": 28,
   "id": "b87b8ebd-8091-43b6-9124-cc17021cfb78",
   "metadata": {},
   "outputs": [
    {
     "name": "stdout",
     "output_type": "stream",
     "text": [
      "201\n",
      "True\n"
     ]
    }
   ],
   "source": [
    "indexer_payload = {\n",
    "    \"name\": indexer_name,\n",
    "    \"dataSourceName\": datasource_name,\n",
    "    \"targetIndexName\": index_name,\n",
    "    \"skillsetName\": skillset_name,\n",
    "    \"schedule\" : { \"interval\" : \"PT2H\"},\n",
    "    \"fieldMappings\": [\n",
    "        {\n",
    "          \"sourceFieldName\" : \"uniqueid\",\n",
    "          \"targetFieldName\" : \"id\",\n",
    "        },\n",
    "        {\n",
    "          \"sourceFieldName\" : \"기준분기\",\n",
    "          \"targetFieldName\" : \"content\"\n",
    "        },\n",
    "        {\n",
    "          \"sourceFieldName\" : \"분기매출\",\n",
    "          \"targetFieldName\" : \"content2\"\n",
    "        },\n",
    "        {\n",
    "          \"sourceFieldName\" : \"주중매출금액\",\n",
    "          \"targetFieldName\" : \"content3\"\n",
    "        },\n",
    "        {\n",
    "          \"sourceFieldName\" : \"주말매출금액\",\n",
    "          \"targetFieldName\" : \"content4\"\n",
    "        },\n",
    "        {\n",
    "          \"sourceFieldName\" : \"서비스업종\",\n",
    "          \"targetFieldName\" : \"name\"\n",
    "        },\n",
    "        {\n",
    "          \"sourceFieldName\" : \"상권지역\",\n",
    "          \"targetFieldName\" : \"location\"\n",
    "        }\n",
    "    ],\n",
    "    \"outputFieldMappings\":\n",
    "    [\n",
    "        {\n",
    "            \"sourceFieldName\": \"/document/language\",\n",
    "            \"targetFieldName\": \"language\"\n",
    "        },\n",
    "        {\n",
    "            \"sourceFieldName\": \"/document/pages/*\",\n",
    "            \"targetFieldName\": \"chunks\"\n",
    "        }\n",
    "    ],\n",
    "    \"parameters\" : { \n",
    "        \"configuration\" : { \n",
    "            \"dataToExtract\": \"contentAndMetadata\",\n",
    "            \"parsingMode\" : \"delimitedText\", \n",
    "            \"firstLineContainsHeaders\" : True,\n",
    "            \"delimitedTextDelimiter\": \",\"\n",
    "        } \n",
    "    }\n",
    "}\n",
    "r = requests.put(os.environ['AZURE_SEARCH_ENDPOINT'] + \"/indexers/\" + indexer_name,\n",
    "                 data=json.dumps(indexer_payload), headers=headers, params=params)\n",
    "print(r.status_code)\n",
    "print(r.ok)"
   ]
  },
  {
   "cell_type": "code",
   "execution_count": 30,
   "id": "6132c041-7213-410e-a206-1a8c7385128e",
   "metadata": {},
   "outputs": [
    {
     "name": "stdout",
     "output_type": "stream",
     "text": [
      "200\n",
      "Status: inProgress\n",
      "Items Processed: 0\n",
      "True\n"
     ]
    }
   ],
   "source": [
    "# 인덱서 상태를 가져와 실행 중임을 확인합니다\n",
    "r = requests.get(os.environ['AZURE_SEARCH_ENDPOINT'] + \"/indexers/\" + indexer_name +\n",
    "                 \"/status\", headers=headers, params=params)\n",
    "# pprint(json.dumps(r.json(), indent=1))\n",
    "print(r.status_code)\n",
    "print(\"Status:\",r.json().get('lastResult').get('status'))\n",
    "print(\"Items Processed:\",r.json().get('lastResult').get('itemsProcessed'))\n",
    "print(r.ok)"
   ]
  },
  {
   "cell_type": "code",
   "execution_count": 31,
   "id": "f38a37b3",
   "metadata": {},
   "outputs": [
    {
     "name": "stdout",
     "output_type": "stream",
     "text": [
      "{\"@odata.context\":\"https://cog-search-iwdkwba7nutto.search.windows.net/$metadata#Microsoft.Azure.Search.V2023_07_01_Preview.IndexerExecutionInfo\",\"name\":\"cogsrch-indexer-csv\",\"status\":\"running\",\"lastResult\":{\"status\":\"inProgress\",\"statusDetail\":null,\"errorMessage\":null,\"startTime\":\"2023-10-20T05:44:40.935Z\",\"endTime\":null,\"itemsProcessed\":0,\"itemsFailed\":0,\"initialTrackingState\":null,\"finalTrackingState\":null,\"mode\":\"indexingAllDocs\",\"errors\":[],\"warnings\":[],\"metrics\":null},\"executionHistory\":[],\"limits\":{\"maxRunTime\":\"PT2H\",\"maxDocumentExtractionSize\":134217728,\"maxDocumentContentCharactersToExtract\":4194304},\"currentState\":{\"mode\":\"indexingAllDocs\",\"allDocsInitialTrackingState\":null,\"allDocsFinalTrackingState\":null,\"resetDocsInitialTrackingState\":null,\"resetDocsFinalTrackingState\":null,\"resetDocumentKeys\":[],\"resetDatasourceDocumentIds\":[]}}\n"
     ]
    }
   ],
   "source": [
    "print(r.text)"
   ]
  },
  {
   "cell_type": "markdown",
   "id": "b9d67bce-61be-47e4-bd1c-fdfda862f399",
   "metadata": {},
   "source": [
    "## 벡터 기반 인덱스 생성"
   ]
  },
  {
   "cell_type": "code",
   "execution_count": 32,
   "id": "ec359823-3b9f-4b7f-af38-c3f2f916d5fa",
   "metadata": {},
   "outputs": [
    {
     "name": "stdout",
     "output_type": "stream",
     "text": [
      "201\n",
      "True\n"
     ]
    }
   ],
   "source": [
    "index_payload = {\n",
    "    \"name\": index_name + \"-vector\",\n",
    "    \"fields\": [\n",
    "        {\"name\": \"id\", \"type\": \"Edm.String\", \"key\": \"true\", \"filterable\": \"true\" },\n",
    "        {\"name\": \"title\",\"type\": \"Edm.String\",\"searchable\": \"true\",\"retrievable\": \"true\"},\n",
    "        {\"name\": \"chunk\",\"type\": \"Edm.String\",\"searchable\": \"true\",\"retrievable\": \"true\"},\n",
    "        {\"name\": \"chunkVector\",\"type\": \"Collection(Edm.Single)\",\"searchable\": \"true\",\"retrievable\": \"true\",\"dimensions\": 1536,\"vectorSearchConfiguration\": \"vectorConfig\"},\n",
    "        {\"name\": \"name\", \"type\": \"Edm.String\", \"searchable\": \"true\", \"retrievable\": \"true\", \"sortable\": \"false\", \"filterable\": \"false\", \"facetable\": \"false\"},\n",
    "        {\"name\": \"location\", \"type\": \"Edm.String\", \"searchable\": \"false\", \"retrievable\": \"true\", \"sortable\": \"false\", \"filterable\": \"false\", \"facetable\": \"false\"},\n",
    "\n",
    "    ],\n",
    "    \"vectorSearch\": {\n",
    "        \"algorithmConfigurations\": [\n",
    "            {\n",
    "                \"name\": \"vectorConfig\",\n",
    "                \"kind\": \"hnsw\"\n",
    "            }\n",
    "        ]\n",
    "    },\n",
    "    \"semantic\": {\n",
    "        \"configurations\": [\n",
    "            {\n",
    "                \"name\": \"my-semantic-config\",\n",
    "                \"prioritizedFields\": {\n",
    "                    \"titleField\": {\n",
    "                        \"fieldName\": \"title\"\n",
    "                    },\n",
    "                    \"prioritizedContentFields\": [\n",
    "                        {\n",
    "                            \"fieldName\": \"chunk\"\n",
    "                        }\n",
    "                    ],\n",
    "                    \"prioritizedKeywordsFields\": []\n",
    "                }\n",
    "            }\n",
    "        ]\n",
    "    }\n",
    "}\n",
    "\n",
    "r = requests.put(os.environ['AZURE_SEARCH_ENDPOINT'] + \"/indexes/\" + index_name + \"-vector\",\n",
    "                 data=json.dumps(index_payload), headers=headers, params=params)\n",
    "print(r.status_code)\n",
    "print(r.ok)"
   ]
  },
  {
   "cell_type": "markdown",
   "id": "0eed6f22-437f-4a49-9b67-5fa2e7d066bf",
   "metadata": {},
   "source": [
    "# Reference\n",
    "\n",
    "- https://learn.microsoft.com/en-us/azure/search/search-howto-index-csv-blobs\n",
    "- https://learn.microsoft.com/en-us/azure/search/knowledge-store-create-rest\n",
    "\n"
   ]
  },
  {
   "cell_type": "code",
   "execution_count": null,
   "id": "7505d8f9-39c7-4b87-a85f-283b6fea3de0",
   "metadata": {},
   "outputs": [],
   "source": []
  }
 ],
 "metadata": {
  "kernelspec": {
   "display_name": "hol-env",
   "language": "python",
   "name": "python3"
  },
  "language_info": {
   "codemirror_mode": {
    "name": "ipython",
    "version": 3
   },
   "file_extension": ".py",
   "mimetype": "text/x-python",
   "name": "python",
   "nbconvert_exporter": "python",
   "pygments_lexer": "ipython3",
   "version": "3.10.12"
  }
 },
 "nbformat": 4,
 "nbformat_minor": 5
}

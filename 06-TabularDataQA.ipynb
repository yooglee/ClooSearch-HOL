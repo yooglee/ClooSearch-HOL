{
 "cells": [
  {
   "cell_type": "markdown",
   "id": "45b4b5a4-96b0-4935-b890-8eb1c3d678ad",
   "metadata": {},
   "source": [
    "# Q&A against Tabular Data from a CSV file  (experimental)"
   ]
  },
  {
   "cell_type": "markdown",
   "id": "9697d091-a0fb-4aac-9761-36dbfbebae29",
   "metadata": {},
   "source": [
    "Smart Search Engine이 모든 문서에 대한 질문에 대답할 수 있으려면,  표 형태의 데이터, 즉 행 및 열의 출처와 숫자를 이해해야 합니다.\n",
    "이것은 단순히 가장 유사한 상위 결과를 찾는 것과는 다른 문제입니다. 인덱싱의 개념, 상위 결과 가져오기, 임베딩, 코사인 의미 검색 및 답변 요약의 개념은 표 형태의 데이터에는 영향을 미치지 않습니다. \n",
    "그렇기에 각 행과 열이 서로 연관되어 있는 표를 기반으로, 질문에 답하기 위해서는 상위 결과만이 아니라 모든 데이터가 필요합니다.\n",
    "\n",
    "데이터 레이크에 있는 많은 문서들이 표 형태의 데이터입니다. \n",
    "이런 LLM모델을 사용하여 표 형태의 데이터를 이해하고 질문에 대답하기 위해서 CSV 파일이나 심지어 SQL 데이터베이스에서 문맥을 얻어야 합니다. 스마트 검색 엔진은 이러한 소스를 다루는 방법을 이해하고, 데이터를 분석하여, 질문에 적합한 답을 도출합니다. "
   ]
  },
  {
   "cell_type": "code",
   "execution_count": 4,
   "id": "cb2ae896",
   "metadata": {},
   "outputs": [],
   "source": [
    "# pip install gdown"
   ]
  },
  {
   "cell_type": "code",
   "execution_count": 5,
   "id": "9283f4e6",
   "metadata": {},
   "outputs": [],
   "source": [
    "import os\n",
    "import pandas as pd\n",
    "import gdown\n",
    "from langchain.llms import AzureOpenAI\n",
    "from langchain.chat_models import AzureChatOpenAI\n",
    "from langchain.agents import create_pandas_dataframe_agent\n",
    "from langchain.agents import create_csv_agent\n",
    "\n",
    "from common.prompts import CSV_PROMPT_PREFIX, CSV_PROMPT_SUFFIX\n",
    "\n",
    "from IPython.display import Markdown, HTML, display  \n",
    "\n",
    "from dotenv import load_dotenv\n",
    "load_dotenv(\"credentials.env\")\n",
    "\n",
    "def printmd(string):\n",
    "    display(Markdown(string))\n"
   ]
  },
  {
   "cell_type": "code",
   "execution_count": 6,
   "id": "0fc7ec12",
   "metadata": {},
   "outputs": [],
   "source": [
    "# Set the ENV variables that Langchain needs to connect to Azure OpenAI\n",
    "os.environ[\"OPENAI_API_BASE\"] = os.environ[\"AZURE_OPENAI_ENDPOINT\"]\n",
    "os.environ[\"OPENAI_API_KEY\"] = os.environ[\"AZURE_OPENAI_API_KEY\"]\n",
    "os.environ[\"OPENAI_API_VERSION\"] = os.environ[\"AZURE_OPENAI_API_VERSION\"]\n",
    "os.environ[\"OPENAI_API_TYPE\"] = \"azure\""
   ]
  },
  {
   "cell_type": "markdown",
   "id": "9f8800b1",
   "metadata": {},
   "source": [
    "# Download the dataset and load it into Pandas Dataframe"
   ]
  },
  {
   "cell_type": "code",
   "execution_count": 7,
   "id": "09035e45-419d-4870-a297-5b5afac18d6c",
   "metadata": {},
   "outputs": [],
   "source": [
    "os.makedirs(\"data\",exist_ok=True)"
   ]
  },
  {
   "cell_type": "code",
   "execution_count": 8,
   "id": "dfb441fd",
   "metadata": {},
   "outputs": [],
   "source": [
    "# !wget https://covidtracking.com/data/download/all-states-history.csv -P ./data/"
   ]
  },
  {
   "cell_type": "code",
   "execution_count": 9,
   "id": "ee65d7a7",
   "metadata": {},
   "outputs": [
    {
     "name": "stderr",
     "output_type": "stream",
     "text": [
      "Downloading...\n",
      "From: https://drive.google.com/uc?id=1bXIucVZHBUKyj0cF5iBXNfqUQYzLtiaS\n",
      "To: c:\\Projects\\ClooSearch-HOL\\ClooSearch-HOL\\data\\Seoul_Commercial_Districts.csv\n",
      "100%|██████████| 229k/229k [00:00<00:00, 1.03MB/s]\n"
     ]
    },
    {
     "data": {
      "text/plain": [
       "'./data/Seoul_Commercial_Districts.csv'"
      ]
     },
     "execution_count": 9,
     "metadata": {},
     "output_type": "execute_result"
    }
   ],
   "source": [
    "file_id = \"1bXIucVZHBUKyj0cF5iBXNfqUQYzLtiaS\"\n",
    "file_url = \"./data/Seoul_Commercial_Districts.csv\" # 저장 위치 및 저장할 파일 이름\n",
    "gdown.download(id=file_id, output=file_url, quiet=False)"
   ]
  },
  {
   "cell_type": "code",
   "execution_count": 10,
   "id": "54c0f7eb-0ec2-44aa-b02b-8dbe1b122b28",
   "metadata": {},
   "outputs": [
    {
     "name": "stdout",
     "output_type": "stream",
     "text": [
      "Rows and Columns: (3455, 8)\n"
     ]
    },
    {
     "data": {
      "text/html": [
       "<div>\n",
       "<style scoped>\n",
       "    .dataframe tbody tr th:only-of-type {\n",
       "        vertical-align: middle;\n",
       "    }\n",
       "\n",
       "    .dataframe tbody tr th {\n",
       "        vertical-align: top;\n",
       "    }\n",
       "\n",
       "    .dataframe thead th {\n",
       "        text-align: right;\n",
       "    }\n",
       "</style>\n",
       "<table border=\"1\" class=\"dataframe\">\n",
       "  <thead>\n",
       "    <tr style=\"text-align: right;\">\n",
       "      <th></th>\n",
       "      <th>기준분기</th>\n",
       "      <th>상권구분</th>\n",
       "      <th>상권지역</th>\n",
       "      <th>서비스업종</th>\n",
       "      <th>분기매출</th>\n",
       "      <th>분기당_매출건수</th>\n",
       "      <th>주중_매출금액</th>\n",
       "      <th>주말_매출금액</th>\n",
       "    </tr>\n",
       "  </thead>\n",
       "  <tbody>\n",
       "    <tr>\n",
       "      <th>0</th>\n",
       "      <td>4</td>\n",
       "      <td>발달상권</td>\n",
       "      <td>대림3동사거리</td>\n",
       "      <td>가구</td>\n",
       "      <td>205619535.0</td>\n",
       "      <td>220</td>\n",
       "      <td>205619535.0</td>\n",
       "      <td>0</td>\n",
       "    </tr>\n",
       "    <tr>\n",
       "      <th>1</th>\n",
       "      <td>4</td>\n",
       "      <td>발달상권</td>\n",
       "      <td>송파사거리(송파역)</td>\n",
       "      <td>시계및귀금속</td>\n",
       "      <td>47289011.0</td>\n",
       "      <td>156</td>\n",
       "      <td>47289011.0</td>\n",
       "      <td>0</td>\n",
       "    </tr>\n",
       "    <tr>\n",
       "      <th>2</th>\n",
       "      <td>4</td>\n",
       "      <td>발달상권</td>\n",
       "      <td>상계백병원</td>\n",
       "      <td>가구</td>\n",
       "      <td>3509705.0</td>\n",
       "      <td>11</td>\n",
       "      <td>3509705.0</td>\n",
       "      <td>0</td>\n",
       "    </tr>\n",
       "    <tr>\n",
       "      <th>3</th>\n",
       "      <td>4</td>\n",
       "      <td>전통시장</td>\n",
       "      <td>화곡본동시장</td>\n",
       "      <td>가구</td>\n",
       "      <td>6554404.0</td>\n",
       "      <td>10</td>\n",
       "      <td>6554404.0</td>\n",
       "      <td>0</td>\n",
       "    </tr>\n",
       "    <tr>\n",
       "      <th>4</th>\n",
       "      <td>4</td>\n",
       "      <td>발달상권</td>\n",
       "      <td>강남을지병원</td>\n",
       "      <td>가구</td>\n",
       "      <td>125073744.0</td>\n",
       "      <td>108</td>\n",
       "      <td>125073744.0</td>\n",
       "      <td>0</td>\n",
       "    </tr>\n",
       "  </tbody>\n",
       "</table>\n",
       "</div>"
      ],
      "text/plain": [
       "   기준분기  상권구분        상권지역   서비스업종         분기매출  분기당_매출건수      주중_매출금액  주말_매출금액\n",
       "0     4  발달상권     대림3동사거리      가구  205619535.0       220  205619535.0        0\n",
       "1     4  발달상권  송파사거리(송파역)  시계및귀금속   47289011.0       156   47289011.0        0\n",
       "2     4  발달상권       상계백병원      가구    3509705.0        11    3509705.0        0\n",
       "3     4  전통시장      화곡본동시장      가구    6554404.0        10    6554404.0        0\n",
       "4     4  발달상권      강남을지병원      가구  125073744.0       108  125073744.0        0"
      ]
     },
     "execution_count": 10,
     "metadata": {},
     "output_type": "execute_result"
    }
   ],
   "source": [
    "# file_url = \"./data/\"\n",
    "df = pd.read_csv(file_url, encoding='cp949').fillna(value = 0)\n",
    "print(\"Rows and Columns:\",df.shape)\n",
    "df.head()"
   ]
  },
  {
   "cell_type": "code",
   "execution_count": 11,
   "id": "d703e877-0a85-43c5-ab35-8ecbe72c44c8",
   "metadata": {},
   "outputs": [
    {
     "data": {
      "text/plain": [
       "Index(['기준분기', '상권구분', '상권지역', '서비스업종', '분기매출', '분기당_매출건수', '주중_매출금액',\n",
       "       '주말_매출금액'],\n",
       "      dtype='object')"
      ]
     },
     "execution_count": 11,
     "metadata": {},
     "output_type": "execute_result"
    }
   ],
   "source": [
    "df.columns"
   ]
  },
  {
   "cell_type": "markdown",
   "id": "21f25d06-03c3-4f73-bb9a-5a43777d1bf5",
   "metadata": {},
   "source": [
    "## Introducing: Agents"
   ]
  },
  {
   "cell_type": "markdown",
   "id": "87d4c5dd-8d4b-4a7b-a108-99486582530d",
   "metadata": {},
   "source": [
    "스마트 에이전트의 구현은 [MRKL Systems](https://arxiv.org/abs/2205.00445)논문과 [ReAct](https://arxiv.org/abs/2210.03629)논문에서 영감을 얻어 만들어졌습니다.\n",
    "\n",
    "스마트 에이전트는 LLM이 프롬프트를 이해하고 행동하는 능력을 활용하는 기술입니다. 기본적으로 스마트 에이전트는 프롬프트를 사용하여LLM에게 복잡한 쿼리를 하나씩 일련의 단계로 분해하여 응답하는 과정을 거칩니다. \n",
    "\n",
    "Agent에 NRKL 논문에서 소개한 'expert'를 결합시키면 더욱 똑똑해집니다. 간단한 예시로 Agent는 스스로 수학적 계산을 안정적으로 수행하는 고유한 기능이 없을 수 있습니다. 그러나 이러한 경우에서 수학적 계산기인 'expert'를 소개하겠습니다. 이제 우리가 계산을 해야할 때, Agent는 결과 자체를 직접 예측하기 보다는 'expert'를 불러올 수 있습니다. 이것은 [ChatGPT Pluggins](https://openai.com/blog/chatgpt-plugins)의 배경이 되는 개념입니다.\n",
    "\n",
    "OpenAI는 새로운 개념으로 세상을 새롭게 열었습니다. 라이브러리들은 빠르고 격렬하게 만들어지고 있습니다. 우리는 문제를 해결하기 위하여 [LangChain](https://docs.langchain.com/docs/)이라는 라이브러리를 사용할 예정이지만 추천하는 다른 라이브러리도 있습니다. (예: [HayStack](https://haystack.deepset.ai/), [Semantic Kernel](https://learn.microsoft.com/en-us/semantic-kernel/whatissk))"
   ]
  },
  {
   "cell_type": "code",
   "execution_count": 12,
   "id": "b86deb94-a500-4187-9638-55fc64ce0115",
   "metadata": {},
   "outputs": [],
   "source": [
    "# 앞서 설명한 것과 같이 일련의 단계를 해결하기 위해 질문을 짚어보겠습니다. 당장은 질문의 답이 정확하지 않을 수 있습니다. \n",
    "\n",
    "QUESTION = \"발달상권 가구의 4분기 분기매출을 알려주고 주중과 주말로 나눠서도 매출을 알려줘\"\n"
   ]
  },
  {
   "cell_type": "code",
   "execution_count": 13,
   "id": "46238c2e-2eb4-4fc3-8472-b894380a5063",
   "metadata": {},
   "outputs": [],
   "source": [
    "# GPT-4 모델을 사용합니다.\n",
    "# GPT-3.5-Turbo는 복잡한 문제를 해결할 수 있는 인지기능이 없기에 부정확한 답을 줄 수 있습니다. \n",
    "llm = AzureChatOpenAI(deployment_name=\"gpt-4\", temperature=0, max_tokens=500)"
   ]
  },
  {
   "cell_type": "markdown",
   "id": "66a4d7d9-17c9-49cc-a98a-a5c7ace0480d",
   "metadata": {},
   "source": [
    "LangChain의 CSV 표 형식의 데이터을 이해하고 질문을 해결하기 위해 사용할 수 있는 out-of-box 에이전트를 사용합니다. **CSV 에이전트**에 대한 자세한 설명은 [이곳](https://python.langchain.com/en/latest/modules/agents/toolkits/examples/csv.html)을 클릭하십시오"
   ]
  },
  {
   "cell_type": "code",
   "execution_count": 14,
   "id": "2927c9d0-1980-437e-9b06-7462bb6602a0",
   "metadata": {},
   "outputs": [],
   "source": [
    "agent_executor = create_pandas_dataframe_agent(llm=llm,df=df,verbose=True)"
   ]
  },
  {
   "cell_type": "code",
   "execution_count": 15,
   "id": "44a7b5bf-7601-4b4c-b76f-a8a64dda7c39",
   "metadata": {},
   "outputs": [
    {
     "data": {
      "text/plain": [
       "['python_repl_ast']"
      ]
     },
     "execution_count": 15,
     "metadata": {},
     "output_type": "execute_result"
    }
   ],
   "source": [
    "agent_executor.agent.allowed_tools"
   ]
  },
  {
   "cell_type": "code",
   "execution_count": 16,
   "id": "904e0276-78a2-4555-96ce-ece5a99e4db1",
   "metadata": {},
   "outputs": [
    {
     "data": {
      "text/markdown": [
       "\n",
       "You are working with a pandas dataframe in Python. The name of the dataframe is `df`.\n",
       "You should use the tools below to answer the question posed of you:\n",
       "\n",
       "python_repl_ast: A Python shell. Use this to execute python commands. Input should be a valid python command. When using this tool, sometimes output is abbreviated - make sure it does not look abbreviated before using it in your answer.\n",
       "\n",
       "Use the following format:\n",
       "\n",
       "Question: the input question you must answer\n",
       "Thought: you should always think about what to do\n",
       "Action: the action to take, should be one of [python_repl_ast]\n",
       "Action Input: the input to the action\n",
       "Observation: the result of the action\n",
       "... (this Thought/Action/Action Input/Observation can repeat N times)\n",
       "Thought: I now know the final answer\n",
       "Final Answer: the final answer to the original input question\n",
       "\n",
       "\n",
       "This is the result of `print(df.head())`:\n",
       "{df_head}\n",
       "\n",
       "Begin!\n",
       "Question: {input}\n",
       "{agent_scratchpad}"
      ],
      "text/plain": [
       "<IPython.core.display.Markdown object>"
      ]
     },
     "metadata": {},
     "output_type": "display_data"
    }
   ],
   "source": [
    "printmd(agent_executor.agent.llm_chain.prompt.template)"
   ]
  },
  {
   "cell_type": "markdown",
   "id": "7d0220e2-9b3f-467e-9843-7a27a09fd39b",
   "metadata": {},
   "source": [
    "## Enjoy the response and the power of GPT-4 + REACT/MKRL approach\n",
    "\n",
    "## GPT-4 + REACT/MKRL 접근방식의 뛰어난 성능을 즐겨보세요!"
   ]
  },
  {
   "cell_type": "code",
   "execution_count": 17,
   "id": "d6eb9727-036f-4a43-a796-7702183fc57d",
   "metadata": {},
   "outputs": [
    {
     "name": "stdout",
     "output_type": "stream",
     "text": [
      "\n",
      "\n",
      "\u001b[1m> Entering new AgentExecutor chain...\u001b[0m\n",
      "\u001b[32;1m\u001b[1;3mThought: I need to set the pandas display options to show all the columns first.\n",
      "Action: python_repl_ast\n",
      "Action Input: pd.set_option('display.max_columns', None)\u001b[0m\n",
      "Observation: \u001b[36;1m\u001b[1;3mNameError: name 'pd' is not defined\u001b[0m\n",
      "Thought:\u001b[32;1m\u001b[1;3mI forgot to import pandas. I need to import pandas first.\n",
      "Action: python_repl_ast\n",
      "Action Input: import pandas as pd\u001b[0m\n",
      "Observation: \u001b[36;1m\u001b[1;3m\u001b[0m\n",
      "Thought:\u001b[32;1m\u001b[1;3mNow that pandas is imported, I can set the display options to show all the columns.\n",
      "Action: python_repl_ast\n",
      "Action Input: pd.set_option('display.max_columns', None)\u001b[0m\n",
      "Observation: \u001b[36;1m\u001b[1;3m\u001b[0m\n",
      "Thought:\u001b[32;1m\u001b[1;3mNow that I have set the display options, I can get the column names.\n",
      "Action: python_repl_ast\n",
      "Action Input: df.columns\u001b[0m\n",
      "Observation: \u001b[36;1m\u001b[1;3mIndex(['기준분기', '상권구분', '상권지역', '서비스업종', '분기매출', '분기당_매출건수', '주중_매출금액',\n",
      "       '주말_매출금액'],\n",
      "      dtype='object')\u001b[0m\n",
      "Thought:\u001b[32;1m\u001b[1;3mThe column names are '기준분기', '상권구분', '상권지역', '서비스업종', '분기매출', '분기당_매출건수', '주중_매출금액', and '주말_매출금액'. Now I need to filter the dataframe for rows where '상권구분' is '발달상권', '서비스업종' is '가구', and '기준분기' is 4. Then I will sum the '분기매출', '주중_매출금액', and '주말_매출금액' columns.\n",
      "Action: python_repl_ast\n",
      "Action Input: df_filtered = df[(df['상권구분'] == '발달상권') & (df['서비스업종'] == '가구') & (df['기준분기'] == 4)]\n",
      "df_filtered[['분기매출', '주중_매출금액', '주말_매출금액']].sum()\u001b[0m\n",
      "Observation: \u001b[36;1m\u001b[1;3m분기매출       1.271523e+11\n",
      "주중_매출금액    8.390667e+10\n",
      "주말_매출금액    4.324568e+10\n",
      "dtype: float64\u001b[0m\n",
      "Thought:\u001b[32;1m\u001b[1;3mThe total sales for the 4th quarter in the '발달상권' area for the '가구' service type is approximately 1.271523e+11. The weekday sales amount to approximately 8.390667e+10 and the weekend sales amount to approximately 4.324568e+10. Now I will try another method to confirm these results.\n",
      "Action: python_repl_ast\n",
      "Action Input: df_filtered = df.query(\"`상권구분` == '발달상권' and `서비스업종` == '가구' and `기준분기` == 4\")\n",
      "df_filtered[['분기매출', '주중_매출금액', '주말_매출금액']].sum()\u001b[0m\n",
      "Observation: \u001b[36;1m\u001b[1;3m분기매출       1.271523e+11\n",
      "주중_매출금액    8.390667e+10\n",
      "주말_매출금액    4.324568e+10\n",
      "dtype: float64\u001b[0m\n",
      "Thought:\u001b[32;1m\u001b[1;3mThe results from the second method match the results from the first method. I am confident in these results.\n",
      "Final Answer: The total sales for the 4th quarter in the '발달상권' area for the '가구' service type is approximately 1.271523e+11. The weekday sales amount to approximately 8.390667e+10 and the weekend sales amount to approximately 4.324568e+10.\n",
      "\n",
      "Explanation: I filtered the dataframe for rows where '상권구분' is '발달상권', '서비스업종' is '가구', and '기준분기' is 4. Then I summed the '분기매출', '주중_매출금액', and '주말_매출금액' columns. I confirmed these results using a second method.\u001b[0m\n",
      "\n",
      "\u001b[1m> Finished chain.\u001b[0m\n",
      "The total sales for the 4th quarter in the '발달상권' area for the '가구' service type is approximately 1.271523e+11. The weekday sales amount to approximately 8.390667e+10 and the weekend sales amount to approximately 4.324568e+10.\n",
      "\n",
      "Explanation: I filtered the dataframe for rows where '상권구분' is '발달상권', '서비스업종' is '가구', and '기준분기' is 4. Then I summed the '분기매출', '주중_매출금액', and '주말_매출금액' columns. I confirmed these results using a second method.\n"
     ]
    }
   ],
   "source": [
    "# for 문을 사용하여 루프를 돌립니다. 그 이유는:\n",
    "# 1) GPT-4 는 아직 preview 단계이고\n",
    "# 2) LLM 모델이 에이전트가 필요로 하는 정확한 형식에 대한 답변을 항상 제공하는 것은 아니기 때문입니다. \n",
    "\n",
    "for i in range(5):\n",
    "    try:\n",
    "        response = agent_executor.run(CSV_PROMPT_PREFIX + QUESTION + CSV_PROMPT_SUFFIX) \n",
    "        break\n",
    "    except:\n",
    "        response = \"Error too many failed retries\"\n",
    "        continue\n",
    "        \n",
    "print(response)"
   ]
  },
  {
   "cell_type": "markdown",
   "id": "f732d941-e206-445b-a52c-b454398afba4",
   "metadata": {},
   "source": [
    "## 평가\n",
    "정답이 맞는지 확인해 보겠습니다. "
   ]
  },
  {
   "cell_type": "code",
   "execution_count": 18,
   "id": "d921146e",
   "metadata": {},
   "outputs": [
    {
     "name": "stdout",
     "output_type": "stream",
     "text": [
      "4분기 가구 전채매출:  127152344979.0 4분기 가구 주중매출:  83906665297.0 4분기 가구 주말매출:  43245679682\n"
     ]
    }
   ],
   "source": [
    "sales_of_furniture = df[(df['기준분기'] == 4) & (df['상권구분'] == '발달상권') & (df['서비스업종'] == '가구')]\n",
    "week_sales = sales_of_furniture['주중_매출금액'].sum()\n",
    "weekend_sales = sales_of_furniture['주말_매출금액'].sum()\n",
    "total_sales_of_furniture= sales_of_furniture['분기매출'].sum()\n",
    "\n",
    "print( \"4분기 가구 전채매출: \",total_sales_of_furniture,\"4분기 가구 주중매출: \",week_sales, \"4분기 가구 주말매출: \", weekend_sales )"
   ]
  },
  {
   "cell_type": "markdown",
   "id": "49988cb5-719c-4180-8ac5-0afa44018b50",
   "metadata": {},
   "source": [
    "**Note**: 위의 셀을 여러 번 실행하면 항상 같은 결과가 나오는 것이 아니며 때로는 오류가 발생하기도 합니다. 그 이유는: \n",
    "1) LLM과 라이브러리는 아직 새로운 분야이고 여전히 성장할 여지가 많습니다.\n",
    "2) 여러 단계로 풀어야 하는 복잡한 문제는 사람도 실수를 하기 때문입니다.\n",
    "3) 열 이름이 명확하지 않거나 모호한 데이터 있으면 사람이 하는 것처럼 실수를 저지를 수 있기 때문입니다."
   ]
  },
  {
   "cell_type": "markdown",
   "id": "073913d5-321b-4c56-9c66-649266cf6280",
   "metadata": {},
   "source": [
    "# Summary"
   ]
  },
  {
   "cell_type": "markdown",
   "id": "41108384-c132-45fc-92e4-31dc1bcf00c0",
   "metadata": {},
   "source": [
    "CSV 파일로 호스팅 된 우리의 Tabular data에 자연어로 질문하는 방법에 대한 문제를 해결하였습니다.\n",
    "이 접근 방식을 사용하면 데이터베이스 데이터를 CSV 파일로 덤프하고 검색 엔진 위에서 위의 접근 방식을 사용하여 CSV 데이터 덤프 파일을 처리할 필요가 없다는 것을 알 수 있습니다. Agent Framework를 사용하면 최상의 엔지니어링 결정은 데이터 소스 API에 질문을 하기 위해 데이터를 복제할 필요 없이 데이터 소스 API와 직접 상호 작용하는 것입니다.\n",
    "GPT-4는 SQL을 매우 잘 수행할 수 있습니다.\n",
    "\n",
    "GPT-4가 이러한 것들을 훌륭하게 해낼 수 있다면, GPT의 후속 모델들은 어떠한 기능을 수행할 수 있을지 상상해보세요!\n",
    "\n",
    "**Note**: tabular data의 질문에 답하기 위해 Pandas agent를 사용하지 않는 것이 좋습니다. 속도가 빠르지 않고 구문 분석 실수를 많이 하기 때문입니다. 이보단 SQL을 이용하는 것이 더 좋습니다.(다음 노트북을 참조하세요)"
   ]
  },
  {
   "cell_type": "markdown",
   "id": "69e074a0-4f46-40c7-9567-7058ba103f5b",
   "metadata": {},
   "source": [
    "# Reference\n",
    "\n",
    "- https://haystack.deepset.ai/blog/introducing-haystack-agents\n",
    "- https://python.langchain.com/en/latest/modules/agents/agents.html\n",
    "- https://tsmatz.wordpress.com/2023/03/07/react-with-openai-gpt-and-langchain/\n",
    "- https://medium.com/@meghanheintz/intro-to-langchain-llm-templates-and-agents-8793f30f1837"
   ]
  }
 ],
 "metadata": {
  "kernelspec": {
   "display_name": "hol-env",
   "language": "python",
   "name": "python3"
  },
  "language_info": {
   "codemirror_mode": {
    "name": "ipython",
    "version": 3
   },
   "file_extension": ".py",
   "mimetype": "text/x-python",
   "name": "python",
   "nbconvert_exporter": "python",
   "pygments_lexer": "ipython3",
   "version": "3.10.12"
  }
 },
 "nbformat": 4,
 "nbformat_minor": 5
}

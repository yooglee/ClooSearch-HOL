{
 "cells": [
  {
   "cell_type": "markdown",
   "id": "66ab3cc5-aee4-415a-9391-1e5d37ccaf1d",
   "metadata": {},
   "source": [
    "# Internet and Websites Search using Bing API - Bing Chat Clone"
   ]
  },
  {
   "cell_type": "markdown",
   "id": "306fc0a9-4044-441d-9ba7-f54f32e6ea9f",
   "metadata": {},
   "source": [
    "이 노트북에서는, Langchain과 Azure Bing Search API 서비스를 모두 활용하여 웹 검색 기능으로 GPT Smart Search Engine을 부스팅할 수 있는 방법에 대해 알아보겠습니다.\n",
    "\n",
    "앞서, 다른 노트북에서 설명했듯이 harnessing agent 와 tools는 효과적인 접근법입니다. 우리는 GPT-4 및 그 후속제품과 같은 OpenAI의 대규모 언어모델(LLM)을 활용하여 추론 및 연구를 대신하여 수행하는 것을 목표로 하고 있습니다.\n",
    "\n",
    "스마트 검색 엔진에 인터넷 접속이 필요한 경우는 여러 가지가 있습니다. 예를 들어, **웹에서 이용 가능한 정보를 제공하여 답변을 풍부하게 하거나**, **사용자에게 최신 및 최근 정보를 제공하거나**, **특정 공개 웹사이트에서 정보를 찾는 등**의 경우에도 검색 결과를 기반으로 엔진의 응답을 요구할 수 있습니다.\n",
    "\n",
    "이 노트를 진행하면 **Bing Search API를 사용하여 Web Search Agent를 생성하는 방법**과 이러한 도구가 챗봇을 강화하는 방법 등 Bing Search API 기본 사항에 대해 확실하게 이해할 수 있을 것입니다. 또한 **Callback Handler, 사용법 및 봇 애플리케이션에서의 중요성**에 대해서도 알게 될 것입니다."
   ]
  },
  {
   "cell_type": "code",
   "execution_count": 2,
   "id": "258a6e99-2d4f-4147-b8ee-c64c85296181",
   "metadata": {},
   "outputs": [],
   "source": [
    "# Langchain을 사용하여 Azure OpenAI에 연결하는 데 필요한 ENV 변수를 설정\n",
    "os.environ[\"OPENAI_API_BASE\"] = os.environ[\"AZURE_OPENAI_ENDPOINT\"]\n",
    "os.environ[\"OPENAI_API_KEY\"] = os.environ[\"AZURE_OPENAI_API_KEY\"]\n",
    "os.environ[\"OPENAI_API_VERSION\"] = os.environ[\"AZURE_OPENAI_API_VERSION\"]\n",
    "os.environ[\"OPENAI_API_TYPE\"] = \"azure\""
   ]
  },
  {
   "cell_type": "markdown",
   "id": "1e8e0b32-a6b5-4b1c-943d-e57b737213fa",
   "metadata": {},
   "source": [
    "## Introduction to Callback Handlers"
   ]
  },
  {
   "cell_type": "markdown",
   "id": "003327ac-2851-48ef-8a6b-2d8c2004bb2e",
   "metadata": {},
   "source": [
    "\n",
    "다음 설명은 Callback에 대한 Langchain 문서에서 직접 가져온 자료입니다.([링크](https://python.langchain.com/docs/modules/callbacks/)):\n",
    "\n",
    "**Callbacks**:<br>\n",
    "LangChain은 LLM 응용 프로그램의 다양한 단계에 연결할 수 있는 콜백 시스템을 제공합니다. 이는 로그, 모니터링, 스트리밍 및 기타 작업에 유용합니다. API를 통해 사용 가능한 Callback 인수를 사용하여 이러한 이벤트를 구독할 수 있습니다. 이 인수는 핸들러 개체의 목록입니다.\n",
    "\n",
    "**Callback handlers**:<br>\n",
    "CallbackHandler는 CallbackHandler 인터페이스를 구현하는 개체로, 구독할 수 있는 각 이벤트에 대한 메서드가 있습니다. CallbackManager는 이벤트가 트리거되면 각 핸들러에서 해당 메서드를 호출합니다.\n",
    "\n",
    "--------------------\n",
    "콜백에 대한 핸들러를 통합하여 응답이 스트리밍될 때, 이를 관찰하고 에이전트의 추론 과정에 대한 통찰력을 얻을 수 있습니다. 이는 봇의 응답을 사용자에게 스트리밍하고 응답을 기다리는 동안 진행 중인 프로세스에 대해 계속 정보를 제공하는 것을 목포료 할 때 매우 유용합니다.\n",
    "\n",
    "저희의 커스텀 핸들러는 `common/callbacks.py` 에서 확인하실 수 있습니다."
   ]
  },
  {
   "cell_type": "code",
   "execution_count": 6,
   "id": "9d3daf03-77e2-466e-a255-2f06bee3561b",
   "metadata": {},
   "outputs": [],
   "source": [
    "cb_handler = StdOutCallbackHandler()\n",
    "cb_manager = CallbackManager(handlers=[cb_handler])\n",
    "\n",
    "# 콜백 핸들러와 함께 LLM 개체를 선언합니다.\n",
    "llm = AzureChatOpenAI(deployment_name=MODEL_DEPLOYMENT_NAME, temperature=0, max_tokens=1000)\n",
    "\n",
    "# 혹은 응답이 스트리밍 되는 것을 보고 싶다면 아래 코드에서 코멘트를 해제합니다. \n",
    "# llm = AzureChatOpenAI(deployment_name=MODEL_DEPLOYMENT_NAME, temperature=0, max_tokens=1000, streaming=True, callback_manager=cb_manager)"
   ]
  },
  {
   "cell_type": "markdown",
   "id": "11da70c2-60b6-47fb-94f1-aa11291fa40c",
   "metadata": {},
   "source": [
    "## Creating a custom tool - Bing Search API tool"
   ]
  },
  {
   "cell_type": "markdown",
   "id": "4dc30c9d-605d-4ada-9358-f926aeed2e48",
   "metadata": {},
   "source": [
    "Langhain에는 이미 BingSearchAPIWrapper ([HERE](https://github.com/hwchase17/langchain/blob/master/langchain/utilities/bing_search.py))라는 미리 만들어진 툴이 있지만, 실행 기능 대신 결과 기능을 사용함으로써 좀 더 나은 방법으로 텍스트 결과뿐만 아니라 각 스니펫의 제목과 링크(소스)도 얻을 수 있습니다."
   ]
  },
  {
   "cell_type": "code",
   "execution_count": 7,
   "id": "d3d155ae-16eb-458a-b2ed-5aa9a9b84ed8",
   "metadata": {},
   "outputs": [],
   "source": [
    "class MyBingSearch(BaseTool):\n",
    "    \"\"\"Tool for a Bing Search Wrapper\"\"\"\n",
    "    \n",
    "    name = \"@bing\"\n",
    "    description = \"useful when the questions includes the term: @bing.\\n\"\n",
    "\n",
    "    k: int = 5\n",
    "    \n",
    "    def _run(self, query: str) -> str:\n",
    "        bing = BingSearchAPIWrapper(k=self.k)\n",
    "        return bing.results(query,num_results=self.k)\n",
    "            \n",
    "    async def _arun(self, query: str) -> str:\n",
    "        \"\"\"Use the tool asynchronously.\"\"\"\n",
    "        raise NotImplementedError(\"This Tool does not support async\")"
   ]
  },
  {
   "cell_type": "markdown",
   "id": "0a3d6569-0c61-4b1c-9263-431304577551",
   "metadata": {},
   "source": [
    "이제 맞춤형 도구와 맞춤형 프롬프트 `BING_PROMPT_PREFIX`를 사용하는 REACT Agent를 생성합니다."
   ]
  },
  {
   "cell_type": "code",
   "execution_count": 8,
   "id": "2c6cf721-76bb-47b6-aeeb-9ff4ff92b1f4",
   "metadata": {},
   "outputs": [],
   "source": [
    "tools = [MyBingSearch(k=5)]\n",
    "agent_executor = initialize_agent(tools, llm, agent=AgentType.ZERO_SHOT_REACT_DESCRIPTION, \n",
    "                         agent_kwargs={'prefix':BING_PROMPT_PREFIX}, callback_manager=cb_manager, )"
   ]
  },
  {
   "cell_type": "markdown",
   "id": "7232260e-e972-4288-b0b5-0b605e584528",
   "metadata": {},
   "source": [
    "아래 질문들 중 일부를 시도해보시거나, 좋아할만 한 다른 질문들을 시도해보세요."
   ]
  },
  {
   "cell_type": "code",
   "execution_count": 9,
   "id": "fa949cea-c9aa-4529-a75f-61084ffffd7e",
   "metadata": {},
   "outputs": [],
   "source": [
    "QUESTION = \"Create a list with the main facts on What is happening with the oil supply in the world right now?\"\n",
    "# QUESTION = \"How much is 50 USD in Euros and is it enough for an average hotel in Madrid?\"\n",
    "# QUESTION = \"My son needs to build a pinewood car for a pinewood derbi, how do I build such a car?\"\n",
    "# QUESTION = \"Who won the 2023 superbowl and who was the MVP?\"\n",
    "# QUESTION = \"can I travel to Hawaii, Maui from Dallas, TX for 7 days with $7000 on the month of September, what are the best days to travel?\"\n",
    "\n",
    "\n",
    "# This complex question below needs gpt-4-32k (0613 version) in order to ensure a good answer. \n",
    "# ---------------\n",
    "# QUESTION = \"\"\"\n",
    "# compare the number of job opennings (provide the exact number), the average salary within 15 miles of Dallas, TX, for these ocupations:\n",
    "\n",
    "# - ADN Registerd Nurse \n",
    "# - Occupational therapist assistant\n",
    "# - Dental Hygienist\n",
    "# - Graphic Designer\n",
    "# - Real Estate Agent\n",
    "\n",
    "\n",
    "# Create a table with your findings. Place the sources on each cell.\n",
    "# \"\"\""
   ]
  },
  {
   "cell_type": "code",
   "execution_count": 10,
   "id": "ca910f71-60fb-4758-b4a9-757e37eb421f",
   "metadata": {},
   "outputs": [
    {
     "name": "stdout",
     "output_type": "stream",
     "text": [
      "The user is asking for current information about the global oil supply. I will need to perform a web search to gather the most recent data and facts on this topic.\n",
      "Action: @bing\n",
      "Action Input: What is happening with the oil supply in the world right now?The user is asking for current information about the global oil supply. I will need to perform a web search to gather the most recent data and facts on this topic.\n",
      "Action: @bing\n",
      "Action Input: What is happening with the oil supply in the world right now?\n",
      "The search results provide some information about the current state of the global oil supply. The United States is the world's top oil consumer, with China being the second<sup><a href=\"https://www.forbes.com/sites/rrapier/2023/08/18/the-us-still-leads-in-global-petroleum-production--consumption/\" target=\"_blank\">[1]</a></sup>. There are contrasting forecasts about oil demand growth, with the IEA lowering its forecast and OPEC maintaining a stronger growth forecast<sup><a href=\"https://www.reuters.com/markets/commodities/iea-lowers-2024-oil-demand-growth-forecast-2023-08-11/\" target=\"_blank\">[2]</a></sup>. Oil prices have been on a streak of gains due to increased demand forecasts<sup><a href=\"https://www.bloomberg.com/news/articles/2023-08-11/latest-oil-market-news-and-analysis-for-august-11\" target=\"_blank\">[3]</a></sup>. High oil prices are expected to continue<sup><a href=\"https://www.cnn.com/2022/06/03/energy/oil-prices-what-next/index.html\" target=\"_blank\">[4]</a></sup>. However, to provide a more comprehensive answer, I will perform two more searches on the first two websites from the initial search.\n",
      "Action: @bing\n",
      "Action Input: site:https://www.forbes.com/ What is happening with the oil supply in the world right now?The search results provide some information about the current state of the global oil supply. The United States is the world's top oil consumer, with China being the second<sup><a href=\"https://www.forbes.com/sites/rrapier/2023/08/18/the-us-still-leads-in-global-petroleum-production--consumption/\" target=\"_blank\">[1]</a></sup>. There are contrasting forecasts about oil demand growth, with the IEA lowering its forecast and OPEC maintaining a stronger growth forecast<sup><a href=\"https://www.reuters.com/markets/commodities/iea-lowers-2024-oil-demand-growth-forecast-2023-08-11/\" target=\"_blank\">[2]</a></sup>. Oil prices have been on a streak of gains due to increased demand forecasts<sup><a href=\"https://www.bloomberg.com/news/articles/2023-08-11/latest-oil-market-news-and-analysis-for-august-11\" target=\"_blank\">[3]</a></sup>. High oil prices are expected to continue<sup><a href=\"https://www.cnn.com/2022/06/03/energy/oil-prices-what-next/index.html\" target=\"_blank\">[4]</a></sup>. However, to provide a more comprehensive answer, I will perform two more searches on the first two websites from the initial search.\n",
      "Action: @bing\n",
      "Action Input: site:https://www.forbes.com/ What is happening with the oil supply in the world right now?\n",
      "The search results from Forbes provide additional information about the current state of the global oil supply. There was a decline in production to 9.7 million BPD in May 2020, but it has since bounced back to 11.3 million BPD<sup><a href=\"https://www.forbes.com/sites/rrapier/2021/10/22/the-us-oil-supply-is-still-out-of-balance/\" target=\"_blank\">[5]</a></sup>. The U.S. oil production hit an all-time high of just below 13 million barrels per day (BPD) before the Covid-19 pandemic, but demand collapsed as the pandemic unfolded<sup><a href=\"https://www.forbes.com/sites/rrapier/2022/03/11/what-is-holding-back-us-oil-production/\" target=\"_blank\">[6]</a></sup>. OPEC+ is also considering the early 2022 oil market, with the possibility of more Covid cases in winter and a lower-demand “shoulder” season in spring<sup><a href=\"https://www.forbes.com/sites/daneberhart/2021/11/13/why-are-oil-prices-so-high-when-the-us-remains-one-of-the-worlds-largest-producers/\" target=\"_blank\">[7]</a></sup>. Oil demand is expected to grow from 2022 to 2030, rising by just under 7 million b/d, but the rate of growth is expected to slow through the period to less than 0.5 million b/d a year by 2030<sup><a href=\"https://www.forbes.com/sites/woodmackenzie/2021/07/15/is-the-world-sleepwalking-into-an-oil-supply-crunch/\" target=\"_blank\">[8]</a></sup>. Now, I will perform a search on the second website from the initial search.\n",
      "Action: @bing\n",
      "Action Input: site:https://www.reuters.com/ What is happening with the oil supply in the world right now?The search results from Forbes provide additional information about the current state of the global oil supply. There was a decline in production to 9.7 million BPD in May 2020, but it has since bounced back to 11.3 million BPD<sup><a href=\"https://www.forbes.com/sites/rrapier/2021/10/22/the-us-oil-supply-is-still-out-of-balance/\" target=\"_blank\">[5]</a></sup>. The U.S. oil production hit an all-time high of just below 13 million barrels per day (BPD) before the Covid-19 pandemic, but demand collapsed as the pandemic unfolded<sup><a href=\"https://www.forbes.com/sites/rrapier/2022/03/11/what-is-holding-back-us-oil-production/\" target=\"_blank\">[6]</a></sup>. OPEC+ is also considering the early 2022 oil market, with the possibility of more Covid cases in winter and a lower-demand “shoulder” season in spring<sup><a href=\"https://www.forbes.com/sites/daneberhart/2021/11/13/why-are-oil-prices-so-high-when-the-us-remains-one-of-the-worlds-largest-producers/\" target=\"_blank\">[7]</a></sup>. Oil demand is expected to grow from 2022 to 2030, rising by just under 7 million b/d, but the rate of growth is expected to slow through the period to less than 0.5 million b/d a year by 2030<sup><a href=\"https://www.forbes.com/sites/woodmackenzie/2021/07/15/is-the-world-sleepwalking-into-an-oil-supply-crunch/\" target=\"_blank\">[8]</a></sup>. Now, I will perform a search on the second website from the initial search.\n",
      "Action: @bing\n",
      "Action Input: site:https://www.reuters.com/ What is happening with the oil supply in the world right now?\n",
      "The search results from Reuters provide further information about the current state of the global oil supply. An outage on the largest oil pipeline to the United States from Canada could affect inventories at a key U.S. storage hub<sup><a href=\"https://www.reuters.com/business/energy/keystone-oil-spill-could-tighten-us-gulf-crude-stocks-2022-12-09/\" target=\"_blank\">[9]</a></sup>. Oil prices rose modestly due to concerns about the global consumption outlook and the struggle by big OPEC producers to pump enough supply to meet growing demand<sup><a href=\"https://www.reuters.com/business/energy/oil-prices-advance-amid-us-supply-tightness-signals-2021-09-21/\" target=\"_blank\">[10]</a></sup>. The European Union governments tentatively agreed on a $60 a barrel price cap on Russian seaborne oil<sup><a href=\"https://www.reuters.com/world/europe/russias-war-ukraine-latest-news-power-heat-still-short-supply-2022-11-27/\" target=\"_blank\">[11]</a></sup>. Oil prices settled higher due to supply concerns heading into the winter<sup><a href=\"https://www.reuters.com/business/energy/oil-prices-slide-china-covid-curbs-possible-rate-hikes-weigh-demand-outlook-2022-09-12/\" target=\"_blank\">[12]</a></sup>. \n",
      "\n",
      "Final Answer: Here are the main facts about the current state of the global oil supply:\n",
      "\n",
      "1. The United States is the world's top oil consumer, with China being the second<sup><a href=\"https://www.forbes.com/sites/rrapier/2023/08/18/the-us-still-leads-in-global-petroleum-production--consumption/\" target=\"_blank\">[1]</a></sup>.\n",
      "2. There are contrasting forecasts about oil demand growth, with the IEA lowering its forecast and OPEC maintaining a stronger growth forecast<sup><a href=\"https://www.reuters.com/markets/commodities/iea-lowers-2024-oil-demand-growth-forecast-2023-08-11/\" target=\"_blank\">[2]</a></sup>.\n",
      "3. Oil prices have been on a streak of gains due to increased demand forecasts<sup><a href=\"https://www.bloomberg.com/news/articles/2023-08-11/latest-oil-market-news-and-analysis-for-august-11\" target=\"_blank\">[3]</a></sup>.\n",
      "4. High oil prices are expected to continue<sup><a href=\"https://www.cnn.com/2022/06/03/energy/oil-prices-what-next/index.html\" target=\"_blank\">[4]</a></sup>.\n",
      "5. There was a decline in production to 9.7 million BPD in May 2020, but it has since bounced back to 11.3 million BPD<sup><a href=\"https://www.forbes.com/sites/rrapier/2021/10/22/the-us-oil-supply-is-still-out-of-balance/\" target=\"_blank\">[5]</a></sup>.\n",
      "6. The U.S. oil production hit an all-time high of just below 13 million barrels per day (BPD) before the Covid-19 pandemic, but demand collapsed as the pandemic unfolded<sup><a href=\"https://www.forbes.com/sites/rrapier/2022/03/11/what-is-holding-back-us-oil-production/\" target=\"_blank\">[6]</a></sup>.\n",
      "7. OPEC+ is also considering the early 2022 oil market, with the possibility of more Covid cases in winter and a lower-demand “shoulder” season in spring<sup><a href=\"https://www.forbes.com/sites/daneberhart/2021/11/13/why-are-oil-prices-so-high-when-the-us-remains-one-of-the-worlds-largest-producers/\" target=\"_blank\">[7]</a></sup>.\n",
      "8. Oil demand is expected to grow from 2022 to 2030, rising by just under 7 million b/d, but the rate of growth is expected to slow through the period to less than 0.5 million b/d a year by 2030<sup><a href=\"https://www.forbes.com/sites/woodmackenzie/2021/07/15/is-the-world-sleepwalking-into-an-oil-supply-crunch/\" target=\"_blank\">[8]</a></sup>.\n",
      "9. An outage on the largest oil pipeline to the United States from Canada could affect inventories at a key U.S. storage hub<sup><a"
     ]
    }
   ],
   "source": [
    "#As LLMs responses are never the same, we do a for loop in case the answer cannot be parsed according to our prompt instructions\n",
    "for i in range(2):\n",
    "    try:\n",
    "        response = agent_executor.run(QUESTION) \n",
    "        break\n",
    "    except Exception as e:\n",
    "        response = str(e)\n",
    "        continue"
   ]
  },
  {
   "cell_type": "code",
   "execution_count": 11,
   "id": "25a410b2-9950-43f5-8f14-b333bdc24ff2",
   "metadata": {},
   "outputs": [
    {
     "data": {
      "text/markdown": [
       "Here are the main facts about the current state of the global oil supply:\n",
       "\n",
       "1. The United States is the world's top oil consumer, with China being the second<sup><a href=\"https://www.forbes.com/sites/rrapier/2023/08/18/the-us-still-leads-in-global-petroleum-production--consumption/\" target=\"_blank\">[1]</a></sup>.\n",
       "2. There are contrasting forecasts about oil demand growth, with the IEA lowering its forecast and OPEC maintaining a stronger growth forecast<sup><a href=\"https://www.reuters.com/markets/commodities/iea-lowers-2024-oil-demand-growth-forecast-2023-08-11/\" target=\"_blank\">[2]</a></sup>.\n",
       "3. Oil prices have been on a streak of gains due to increased demand forecasts<sup><a href=\"https://www.bloomberg.com/news/articles/2023-08-11/latest-oil-market-news-and-analysis-for-august-11\" target=\"_blank\">[3]</a></sup>.\n",
       "4. High oil prices are expected to continue<sup><a href=\"https://www.cnn.com/2022/06/03/energy/oil-prices-what-next/index.html\" target=\"_blank\">[4]</a></sup>.\n",
       "5. There was a decline in production to 9.7 million BPD in May 2020, but it has since bounced back to 11.3 million BPD<sup><a href=\"https://www.forbes.com/sites/rrapier/2021/10/22/the-us-oil-supply-is-still-out-of-balance/\" target=\"_blank\">[5]</a></sup>.\n",
       "6. The U.S. oil production hit an all-time high of just below 13 million barrels per day (BPD) before the Covid-19 pandemic, but demand collapsed as the pandemic unfolded<sup><a href=\"https://www.forbes.com/sites/rrapier/2022/03/11/what-is-holding-back-us-oil-production/\" target=\"_blank\">[6]</a></sup>.\n",
       "7. OPEC+ is also considering the early 2022 oil market, with the possibility of more Covid cases in winter and a lower-demand “shoulder” season in spring<sup><a href=\"https://www.forbes.com/sites/daneberhart/2021/11/13/why-are-oil-prices-so-high-when-the-us-remains-one-of-the-worlds-largest-producers/\" target=\"_blank\">[7]</a></sup>.\n",
       "8. Oil demand is expected to grow from 2022 to 2030, rising by just under 7 million b/d, but the rate of growth is expected to slow through the period to less than 0.5 million b/d a year by 2030<sup><a href=\"https://www.forbes.com/sites/woodmackenzie/2021/07/15/is-the-world-sleepwalking-into-an-oil-supply-crunch/\" target=\"_blank\">[8]</a></sup>.\n",
       "9. An outage on the largest oil pipeline to the United States from Canada could affect inventories at a key U.S. storage hub<sup><a"
      ],
      "text/plain": [
       "<IPython.core.display.Markdown object>"
      ]
     },
     "metadata": {},
     "output_type": "display_data"
    }
   ],
   "source": [
    "printmd(response)"
   ]
  },
  {
   "cell_type": "markdown",
   "id": "e9ba3e35-8021-4262-8494-d1aee3862f7e",
   "metadata": {},
   "source": [
    "## 특정 웹 사이트에 대한 QnA\n",
    "\n",
    "스마트 봇이 특정 회사의 공개 웹 사이트에 대한 질문에 대답하기를 원하는 여러가지 활용 사례가 있으며, 우리가 취할 수 있는 두 가지 접근 방법은 다음과 같습니다 :\n",
    "\n",
    "1. 정기적으로 실행되는 크롤러 스크립트를 만들어 웹사이트의 모든 페이지를 찾아내고 문서를 Azure Cognitive Search로 푸시합니다.\n",
    "2. Bing이 이미 공개 웹사이트를 색인화하였을 가능성이 높기 때문에, 사이트를 직접 색인화하고 Bing 크롤러가 이미 수행한 작업을 복제하는 대신 해당 사이트를 대상으로 하는 Bing 검색을 활용할 수 있습니다.\n",
    "\n",
    "다음은 특정 사이트와 관련된 몇 가지 예시 질문입니다. 다음을 살펴 보세요 :"
   ]
  },
  {
   "cell_type": "code",
   "execution_count": 12,
   "id": "e925ee4a-d295-4815-9e8c-bd6999f48892",
   "metadata": {},
   "outputs": [],
   "source": [
    "# QUESTION = \"information on how to kill wasps in homedepot.com\"\n",
    "# QUESTION = \"in target.com, find how what's the price of a Nesspresso coffee machine and of a Keurig coffee machine\"\n",
    "QUESTION = \"in microsoft.com, find out what is the latests news on quantum computing\"\n",
    "# QUESTION = \"give me on a list the main points on the latest investor report from mondelezinternational.com\""
   ]
  },
  {
   "cell_type": "code",
   "execution_count": 13,
   "id": "099830a1-b81d-4698-a458-e84ccf3989cc",
   "metadata": {},
   "outputs": [
    {
     "name": "stdout",
     "output_type": "stream",
     "text": [
      "The user is asking for the latest news on quantum computing from the Microsoft website. I will use the `site:` special operator to search for this information specifically on microsoft.com.\n",
      "Action: @bing\n",
      "Action Input: quantum computing news site:microsoft.comThe user is asking for the latest news on quantum computing from the Microsoft website. I will use the `site:` special operator to search for this information specifically on microsoft.com.\n",
      "Action: @bing\n",
      "Action Input: quantum computing news site:microsoft.com\n",
      "The search results provide several pieces of news about quantum computing from Microsoft. The first snippet talks about Microsoft achieving the first milestone towards a quantum supercomputer. The second snippet discusses Azure Quantum demonstrating formerly elusive quantum phenomena. The third snippet mentions new data available for Microsoft's quantum machine on the Azure Quantum platform. The fourth snippet discusses new Microsoft breakthroughs that bring general-purpose quantum computing closer to reality. I will compile these pieces of information into a comprehensive response.\n",
      "Final Answer: Here are some of the latest news on quantum computing from Microsoft:\n",
      "\n",
      "1. Microsoft has achieved the first milestone towards a quantum supercomputer<sup><a href=\"https://cloudblogs.microsoft.com/quantum/2023/06/21/microsoft-achieves-first-milestone-towards-a-quantum-supercomputer/\" target=\"_blank\">[1]</a></sup>.\n",
      "2. Azure Quantum has demonstrated formerly elusive quantum phenomena<sup><a href=\"https://news.microsoft.com/source/features/innovation/azure-quantum-majorana-topological-qubit/\" target=\"_blank\">[2]</a></sup>.\n",
      "3. New data is available for Microsoft's quantum machine on the Azure Quantum platform<sup><a href=\"https://cloudblogs.microsoft.com/quantum/2022/11/17/microsofts-quantum-machine-new-data-available-today/\" target=\"_blank\">[3]</a></sup>.\n",
      "4. Microsoft has made breakthroughs that bring general-purpose quantum computing closer to reality<sup><a href=\"https://news.microsoft.com/features/new-microsoft-breakthroughs-general-purpose-quantum-computing-moves-closer-reality/\" target=\"_blank\">[4]</a></sup>.\n",
      "\n",
      "Is there anything else you would like to know?"
     ]
    }
   ],
   "source": [
    "#As LLMs responses are never the same, we do a for loop in case the answer cannot be parsed according to our prompt instructions\n",
    "for i in range(3):\n",
    "    try:\n",
    "        response = agent_executor.run(QUESTION) \n",
    "        break\n",
    "    except Exception as e:\n",
    "        response = str(e)\n",
    "        continue"
   ]
  },
  {
   "cell_type": "code",
   "execution_count": 14,
   "id": "89e67095-277d-45b6-84aa-acef0eb6cf5f",
   "metadata": {},
   "outputs": [
    {
     "data": {
      "text/markdown": [
       "Here are some of the latest news on quantum computing from Microsoft:\n",
       "\n",
       "1. Microsoft has achieved the first milestone towards a quantum supercomputer<sup><a href=\"https://cloudblogs.microsoft.com/quantum/2023/06/21/microsoft-achieves-first-milestone-towards-a-quantum-supercomputer/\" target=\"_blank\">[1]</a></sup>.\n",
       "2. Azure Quantum has demonstrated formerly elusive quantum phenomena<sup><a href=\"https://news.microsoft.com/source/features/innovation/azure-quantum-majorana-topological-qubit/\" target=\"_blank\">[2]</a></sup>.\n",
       "3. New data is available for Microsoft's quantum machine on the Azure Quantum platform<sup><a href=\"https://cloudblogs.microsoft.com/quantum/2022/11/17/microsofts-quantum-machine-new-data-available-today/\" target=\"_blank\">[3]</a></sup>.\n",
       "4. Microsoft has made breakthroughs that bring general-purpose quantum computing closer to reality<sup><a href=\"https://news.microsoft.com/features/new-microsoft-breakthroughs-general-purpose-quantum-computing-moves-closer-reality/\" target=\"_blank\">[4]</a></sup>.\n",
       "\n",
       "Is there anything else you would like to know?"
      ],
      "text/plain": [
       "<IPython.core.display.Markdown object>"
      ]
     },
     "metadata": {},
     "output_type": "display_data"
    }
   ],
   "source": [
    "printmd(response)"
   ]
  },
  {
   "cell_type": "code",
   "execution_count": 17,
   "id": "9782fafa-9453-46be-b9d7-b33088f61ac8",
   "metadata": {},
   "outputs": [],
   "source": [
    "# Uncomment if you want to take a look at the custom bing search prompt (This is where the magic happens: a great system promp + GPT-4)\n",
    "# printmd(agent_executor.agent.llm_chain.prompt.template)"
   ]
  },
  {
   "cell_type": "markdown",
   "id": "56cbc405-26e2-471e-9626-2a0df07f5ddc",
   "metadata": {},
   "source": [
    "# Summary"
   ]
  },
  {
   "cell_type": "markdown",
   "id": "7381ea5f-7269-4e1f-8b0c-1e2c04bd84c0",
   "metadata": {},
   "source": [
    "이 노트북에서는 콜백 핸들러에 대해 알아보고 LLM에서 응답을 스트리밍하는 방법에 대해 알아보았습니다. 또한 특정 검색 및 형식 지정 지침과 함께 영리한 프롬프트를 사용하여 Bing Chat 클론을 만드는 방법에 대해 알아봅니다.\n",
    "\n",
    "결과는 당사를 대신하여 지능적인 웹 검색 및 연구 수행이 가능한 에이전트이며, 해당 URL 인용 및 링크와 함께 질문에 대한 답변을 제공합니다!"
   ]
  }
 ],
 "metadata": {
  "kernelspec": {
   "display_name": "Python 3.10 - SDK v2",
   "language": "python",
   "name": "python310-sdkv2"
  },
  "language_info": {
   "codemirror_mode": {
    "name": "ipython",
    "version": 3
   },
   "file_extension": ".py",
   "mimetype": "text/x-python",
   "name": "python",
   "nbconvert_exporter": "python",
   "pygments_lexer": "ipython3",
   "version": "3.10.11"
  }
 },
 "nbformat": 4,
 "nbformat_minor": 5
}

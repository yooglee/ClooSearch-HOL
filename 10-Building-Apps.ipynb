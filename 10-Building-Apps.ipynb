{
 "cells": [
  {
   "attachments": {},
   "cell_type": "markdown",
   "id": "1ccf7ea5-1abe-4401-a8c7-64bbfc057425",
   "metadata": {},
   "source": [
    "# Building the Backend and Frontend Applications"
   ]
  },
  {
   "attachments": {},
   "cell_type": "markdown",
   "id": "78574a83-1d13-4e99-be84-ddcc5f2c011e",
   "metadata": {},
   "source": [
    "이전 노트북에서는 강력한 Agent/Bot을 생성하기 위해 필요한 모든 기능과 코드를 조합했습니다. 사용자의 질문에 따라 이 Agent/Bot은 사용 가능한 소스와 도구에서 질문에 대한 답변을 검색합니다.\n",
    "\n",
    "그러나 **\"어떻게 하면 이 코드를 다중 채널 배포가 가능한 봇 애플리케이션에 통합할 수 있을까?\"** 이에 대한 이상적인 시나리오는 봇을 구축하고 MS Teams, Web Chat, Slack, Alexa, Outlook, WhatsApp, Line, Facebook 등과 같은 다양한 채널에 배포하는 것입니다.\n",
    "\n",
    "이를 위해서는 봇을 API로 구축할 수 있을 뿐만 아니라 이 API를 여러 채널에 쉽게 노출시킬 수 있는 서비스가 필요한데, 이에 해당하는 서비스가 <u>Azure Bot Framework </u>입니다.\n",
    "\n",
    "이 노트에서는 Bot Framework API 및 Service를 사용하여 지금까지 개발한 코드를 Bot API로 배포하는 방법에 대해 배워 보도록 하겠습니다."
   ]
  },
  {
   "attachments": {},
   "cell_type": "markdown",
   "id": "0a8858d8-c89c-4985-9164-b79cf9c530e3",
   "metadata": {},
   "source": [
    "## Azure Bot Framework 및 Bot Service란?"
   ]
  },
  {
   "attachments": {},
   "cell_type": "markdown",
   "id": "e398cb34-3735-40ca-8dbf-3c50582e2213",
   "metadata": {},
   "source": [
    "따라서 애플리케이션을 구축하기 위해 **Bot Framework Python SDK를 사용하여 Web API**를 구축하고 **Bot Service를 사용하여 API를 여러 채널**에 연결합니다."
   ]
  },
  {
   "attachments": {},
   "cell_type": "markdown",
   "id": "f2905d00-c1c4-4fa8-8b4e-23c6fd0c1acc",
   "metadata": {},
   "source": [
    "## 아키텍쳐\n",
    "\n",
    "아래 이미지는 다음과 같습니다:\n",
    "1) Bot API를 호스팅하는 Azure Web App\n",
    "2) Bot API, Channels 및 Application Insights 연결을 제공하는 Azure Bot 서비스"
   ]
  },
  {
   "attachments": {},
   "cell_type": "markdown",
   "id": "25987e8c-c5fe-45c2-8547-b0f66b3faf0d",
   "metadata": {},
   "source": [
    "![Botframework](https://raw.githubusercontent.com/MSUSAzureAccelerators/Azure-Cognitive-Search-Azure-OpenAI-Accelerator/69114f93a7c245fd79009f01169e746859776d77//images/Bot-Framework.png)"
   ]
  },
  {
   "attachments": {},
   "cell_type": "markdown",
   "id": "d31a7289-ca58-4bec-a977-aac3f755ea7f",
   "metadata": {},
   "source": [
    "# Backend - Azure Web App - Bot API"
   ]
  },
  {
   "cell_type": "markdown",
   "id": "29c2bc4e",
   "metadata": {},
   "source": [
    "이전 노트에서 뇌 에이전트를 만드는 데 사용한 모든 기능과 프롬프트는 각각 utils.py 과 prompts.py 에 있습니다.\n",
    "따라서 기본적으로 수행해야 할 작업은 이전 노트북에서 수행했던 작업과 동일하게 Bot Framework Python SDK 클래스 내에서 수행하는 것입니다.\n",
    "\n",
    "apps/backend/ 폴더 안에는 app.py , bot.py , config.py 등 3개의 파일이 있습니다.\n",
    "- app.py : 어플리케이션의 메인 포인트입니다.\n",
    "- 'bot.py ': OpenAInAI 관련 코드가 있는 곳입니다\n",
    "- 'config.py ': API가 수신할 PORT와 App Service Principal var name을 선언\n",
    "\n",
    "Azu OpenAInAI 애플리케이션과 관련된 논리 코드가 모두 존재하는 곳인 'bot.py '만 다루면 됩니다.\n",
    "\n",
    "'apps/backend/README.md '에서 다음을 수행하는 방법에 대한 모든 지침을 확인할 수 있습니다:\n",
    "1) Azure 웹 서비스 배포: Azure Web App 및 Azure Bot 서비스\n",
    "2) 코드 압축을 풀고 Azure Web App에 업로드하기\n",
    "3) Azure 포털의 Bot Service를 사용하여 Bot API 테스트\n",
    "\n",
    "지금 바로 'apps/백엔드/README.md '에 나와 있는 지침을 따르십시오"
   ]
  },
  {
   "attachments": {},
   "cell_type": "markdown",
   "id": "8ba1f125-2cc7-48ca-a047-5054f2f4ed37",
   "metadata": {},
   "source": [
    "# Frontend - Azure Web App - Streamlit "
   ]
  },
  {
   "cell_type": "markdown",
   "id": "f052bed4",
   "metadata": {},
   "source": [
    "백엔드 Bot API 앱을 실행하고 Bot Service Azure 포털을 사용하여 테스트에 성공하면 샘플 UI를 구축할 수 있습니다.\n",
    "\n",
    "'apps/frontend/' 폴더에는 다음과 같은 기능을 갖춘 간단한 Streamlight 애플리케이션을 구축하는 데 필요한 파일이 있습니다:\n",
    "\n",
    "1) <u>A Search Interface </u>: 'utils.py ' 과 'prompts.py ' 을 사용하고 스트림라이트 기능\n",
    "2) <u>A WebChat Interface </u>: Bot Service WebChat javascript 라이브러리를 이용하여 Streamlit 내부의 WebChat Channel을 html 구성요소로 렌더링할 수 있습니다\n",
    "\n",
    "(1)에서 논리 코드는 Frontend Web App에서 실행되고 있지만 (2)에서 논리 코드는 Backend Bot API에서 실행되고 Frontend는 Bot Service의 WebChat 채널을 사용하고 있습니다.\n",
    "\n",
    "지금 바로 'apps/프론트엔드/READM에 '에 나와 있참고하세요. 따르십시오"
   ]
  },
  {
   "attachments": {},
   "cell_type": "markdown",
   "id": "e6f4abc9",
   "metadata": {},
   "source": [
    "# GitHub Actions으로 빌드 및 배포"
   ]
  },
  {
   "attachments": {},
   "cell_type": "markdown",
   "id": "c8cc7d8e",
   "metadata": {},
   "source": [
    "\n",
    "\n",
    "![pipeline success](https://raw.githubusercontent.com/MSUSAzureAccelerators/Azure-Cognitive-Search-Azure-OpenAI-Accelerator/69114f93a7c245fd79009f01169e746859776d77//images/github-actions-pipeline-success.png)\n"
   ]
  },
  {
   "cell_type": "markdown",
   "id": "12b89bb8",
   "metadata": {},
   "source": [
    "모든 구성 요소를 수동으로 구축하고 배포하지 않으려면 GitHub 자동 CI 파이프라인이 '.gitub/workflows/main_gptsmartsearch_apps.yml'에 제공됩니다. CI 파이프라인 설계에 대한 몇 가지 참고 사항:\n",
    "- 환경별 branch 접근법을 사용합니다. 배포 환경명은 분기 환경 설정 단계(행 29)에서 분기/env-name 매핑 로직을 기반으로 runtime에서 계산됩니다. 현재 구현된 로직은 모든 것을 개발자와 같은 환경에 매핑합니다. 따라서 메인 분기의 각 깃 푸시에 대해 개발이라는 환경에 배포를 시도하는 파이프라인이 트리거됩니다. GitHub 환경과 특정 환경 변수 및 비밀 설정 방법에 대한 자세한 내용은 [여기](https://docs.github.com/en/actions/deployment/targeting-different-environments/using-environments-for-deployment) 를 참조하십시오.\n",
    "- GitHub 환경 변수와 비밀은 개발 환경별 구성을 구성하는 데 사용됩니다. GitHub 저장소 설정에서 수동으로 구성해야 합니다:\n",
    "- 'secrets.AZureAPP SERVICE_X_PUBLISCHPROFILE'을 사용하여 Azure 앱 서비스 게시 프로파일 구성을 안전하게 저장합니다.\n",
    "- 'vars.AZURE_WEBAPP_X_NAME'은 인프라 구축 시 생성되는 애저 웹 앱 리소스 이름을 저장하는 데 사용됩니다.\n",
    "- 현재 Azure Web App이 SCM_DO_BUILD_DUPERNATION으로 구성되어 있어 빌드 단계에서 Python 종속성 설치가 비활성화됩니다. 빌드 작업 중 종속성 해결을 활성화하는 데 사용할 수 있는 env 속성이 있습니다. 'DO_BUILD_DUPERNATION : false'만 설정하면 됩니다.\n",
    "\n",
    "백엔드 및 프론트엔드 구성요소 모두에 대해 자동화된 빌드 및 배포를 적절하게 구성하려면 다음 단계를 수행합니다:\n",
    "\n",
    " 1. GitHub에 있는 forked 저장소로 이동하여 [environment](https://docs.github.com/en/actions/deployment/targeting-different-environments/using-environments-for-deployment)) 'Development'라는 이름의 [env](네, 이 정확한 이름입니다; 변경하지 마십시오.) 환경 이름을 변경하거나 새로운 지점 및 환경을 추가하거나 현재 지점/env 매핑을 변경하려면 가능하지만 '.github/workflows/main_gptsmartsearch_apps.yml'(시작선 29)에서 파이프라인 코드를 변경해야 합니다\n",
    " 2. 프론트엔드 및 백엔드 애저 웹 앱 모두에 대해 '개발' 환경 [secrets](https://docs.github.com/en/actions/security-guides/encrypted-secrets#creating-encrypted-secrets-for-a-repository) 을 만듭니다. .PublishSettings 파일의 xml 내용을 비밀 값으로 복사해야 합니다:\n",
    "- 'AZureAPP SERVICE_BACKEND_PUBLISCHProfile'이라는 이름의 비밀을 생성하고 'apps/백엔드/README.md '의 'Deploy to Azure' 버튼을 사용하여 생성한 Azure 웹 앱의 프로파일을 게시할 Value 필드를 설정합니다\n",
    "- 'AZureAPP SERVICE_FRONTEND_PUBLISHProfile'이라는 이름의 비밀을 생성하고, 'apps/프론트엔드/README.md '의 'Deploy to Azure' 버튼을 사용하여 생성한 Azure 웹 앱의 프로파일을 게시할 Value 필드를 설정합니다\n",
    " 3. 프론트엔드 및 백엔드 애저 웹 앱 리소스 이름 모두에 대해 '개발' 환경 만들기 [variables](https://docs.github.com/en/actions/learn-github-actions/variables#creating-configuration-variables-for-an-environment) :\n",
    "- 이름이 'AZURE_WEBAPP_BACKEND_NAME'인 변수를 생성한 후 'apps/백엔드/README.md '의 'Deploy to Azure' 버튼을 사용하여 생성한 Azure 웹 앱 리소스 이름으로 Value 필드를 설정합니다\n",
    "- 이름이 'AZURE_WEBAPP_FRONTEND_NAME'인 변수를 생성하고 'apps/프론트엔드/README.md '의 'Deploy to Azure' 버튼을 사용하여 생성한 Azure 웹 앱 리소스 이름으로 Value 필드를 설정합니다\n",
    " 4. 푸시하는 각 커밋에 대해 GitHub Actions 탭에서 트리거된 파이프라인의 상태를 확인하고 특정 커밋에 대해 파이프라인이 트리거된 것을 확인해야 합니다. 모든 것이 괜찮으면 아래와 같은 파이프라인 세부 정보에서 빌드 및 배포 작업 모두에 녹색 체크 표시가 표시되어야 합니다:"
   ]
  },
  {
   "attachments": {},
   "cell_type": "markdown",
   "id": "e0301fa7-1eb9-492a-918d-5c36ca5cce90",
   "metadata": {},
   "source": [
    "# Reference"
   ]
  },
  {
   "attachments": {},
   "cell_type": "markdown",
   "id": "bdcdefab-7056-4990-b938-8e82b8dd9501",
   "metadata": {},
   "source": [
    "- https://learn.microsoft.com/en-us/azure/bot-service/bot-service-overview?view=azure-bot-service-4.0\n",
    "- https://github.com/microsoft/botbuilder-python/tree/main\n",
    "- https://github.com/microsoft/BotFramework-WebChat/tree/master"
   ]
  },
  {
   "cell_type": "code",
   "execution_count": null,
   "id": "33ebcb0f-f620-4e1c-992c-c316466c3291",
   "metadata": {},
   "outputs": [],
   "source": []
  }
 ],
 "metadata": {
  "kernelspec": {
   "display_name": "Python 3.10 - SDK v2",
   "language": "python",
   "name": "python310-sdkv2"
  },
  "language_info": {
   "codemirror_mode": {
    "name": "ipython",
    "version": 3
   },
   "file_extension": ".py",
   "mimetype": "text/x-python",
   "name": "python",
   "nbconvert_exporter": "python",
   "pygments_lexer": "ipython3",
   "version": "3.10.10"
  }
 },
 "nbformat": 4,
 "nbformat_minor": 5
}
